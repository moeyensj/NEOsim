{
 "cells": [
  {
   "cell_type": "code",
   "execution_count": 1,
   "metadata": {
    "collapsed": true
   },
   "outputs": [],
   "source": [
    "import yaml\n",
    "import numpy as np\n",
    "import matplotlib.pyplot as plt\n",
    "\n",
    "import MopsAnalysis\n",
    "from MopsParameters import MopsParameters\n",
    "from MopsTracker import MopsTracker\n",
    "\n",
    "% matplotlib inline"
   ]
  },
  {
   "cell_type": "code",
   "execution_count": 2,
   "metadata": {
    "collapsed": false
   },
   "outputs": [],
   "source": [
    "tracker = yaml.load(open(\"tracker.yaml\", \"r\"))\n",
    "parameters = yaml.load(open(\"parameters.yaml\", \"r\"))"
   ]
  },
  {
   "cell_type": "code",
   "execution_count": 3,
   "metadata": {
    "collapsed": true
   },
   "outputs": [],
   "source": [
    "tracker.tracks = tracker.tracks[::-1]"
   ]
  },
  {
   "cell_type": "code",
   "execution_count": 4,
   "metadata": {
    "collapsed": false
   },
   "outputs": [],
   "source": [
    "tracker.dets = tracker.dets[::-1]"
   ]
  },
  {
   "cell_type": "code",
   "execution_count": null,
   "metadata": {
    "collapsed": false
   },
   "outputs": [
    {
     "name": "stdout",
     "output_type": "stream",
     "text": [
      "Starting analysis for night_51059_through_51061.track at Mon Jan 18 20:57:42 2016\n",
      "Writing results to /Users/joachim/repos/neosim/ldm156_0116_05/tracks/night_51059_through_51061.track.results\n",
      "Finished analysis for night_51059_through_51061.track at Mon Jan 18 20:57:43 2016\n",
      "\n",
      "Starting analysis for night_51058_through_51061.track at Mon Jan 18 20:57:43 2016\n",
      "Writing results to /Users/joachim/repos/neosim/ldm156_0116_05/tracks/night_51058_through_51061.track.results\n",
      "Finished analysis for night_51058_through_51061.track at Mon Jan 18 20:57:45 2016\n",
      "\n",
      "Starting analysis for night_51057_through_51061.track at Mon Jan 18 20:57:45 2016\n",
      "Writing results to /Users/joachim/repos/neosim/ldm156_0116_05/tracks/night_51057_through_51061.track.results\n",
      "Finished analysis for night_51057_through_51061.track at Mon Jan 18 20:57:50 2016\n",
      "\n",
      "Starting analysis for night_51056_through_51061.track at Mon Jan 18 20:57:50 2016\n",
      "Writing results to /Users/joachim/repos/neosim/ldm156_0116_05/tracks/night_51056_through_51061.track.results\n",
      "Finished analysis for night_51056_through_51061.track at Mon Jan 18 20:57:58 2016\n"
     ]
    }
   ],
   "source": [
    "analysis = MopsAnalysis.runAnalysis(parameters, tracker)"
   ]
  },
  {
   "cell_type": "code",
   "execution_count": null,
   "metadata": {
    "collapsed": false
   },
   "outputs": [],
   "source": [
    "! less {tracker.dets[0]}"
   ]
  },
  {
   "cell_type": "code",
   "execution_count": null,
   "metadata": {
    "collapsed": true
   },
   "outputs": [],
   "source": [
    "import MopsReader"
   ]
  },
  {
   "cell_type": "code",
   "execution_count": null,
   "metadata": {
    "collapsed": false
   },
   "outputs": [],
   "source": [
    "tracker.dets = tracker.dets[-5]"
   ]
  },
  {
   "cell_type": "code",
   "execution_count": null,
   "metadata": {
    "collapsed": false
   },
   "outputs": [],
   "source": [
    "tracker.dets"
   ]
  },
  {
   "cell_type": "code",
   "execution_count": null,
   "metadata": {
    "collapsed": true
   },
   "outputs": [],
   "source": []
  }
 ],
 "metadata": {
  "kernelspec": {
   "display_name": "Python 2",
   "language": "python",
   "name": "python2"
  },
  "language_info": {
   "codemirror_mode": {
    "name": "ipython",
    "version": 2
   },
   "file_extension": ".py",
   "mimetype": "text/x-python",
   "name": "python",
   "nbconvert_exporter": "python",
   "pygments_lexer": "ipython2",
   "version": "2.7.11"
  }
 },
 "nbformat": 4,
 "nbformat_minor": 0
}
