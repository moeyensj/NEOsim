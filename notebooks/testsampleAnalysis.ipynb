{
 "cells": [
  {
   "cell_type": "code",
   "execution_count": null,
   "metadata": {
    "collapsed": false
   },
   "outputs": [],
   "source": [
    "import sqlite3 as sql\n",
    "import pandas as pd\n",
    "import matplotlib.pyplot as plt\n",
    "import numpy as np\n",
    "import random\n",
    "import yaml\n",
    "import scipy\n",
    "import os \n",
    "\n",
    "import MopsAnalysis\n",
    "import MopsReader\n",
    "import MopsPlotter\n",
    "from MopsTracker import MopsTracker\n",
    "from MopsParameters import MopsParameters\n",
    "\n",
    "% matplotlib inline"
   ]
  },
  {
   "cell_type": "code",
   "execution_count": null,
   "metadata": {
    "collapsed": false,
    "scrolled": true
   },
   "outputs": [],
   "source": [
    "dataLocation = \"/Users/joachim/repos/neosim/unittest/testData/testsources.db\"\n",
    "subsampleLocation = \"/Users/joachim/repos/neosim/unittest/testData/test/\""
   ]
  },
  {
   "cell_type": "code",
   "execution_count": null,
   "metadata": {
    "collapsed": false,
    "scrolled": true
   },
   "outputs": [],
   "source": [
    "con = sql.connect(dataLocation)"
   ]
  },
  {
   "cell_type": "code",
   "execution_count": null,
   "metadata": {
    "collapsed": false
   },
   "outputs": [],
   "source": [
    "full = pd.read_sql_query(\"\"\"\n",
    "SELECT * FROM testsources\n",
    "\"\"\", con)"
   ]
  },
  {
   "cell_type": "code",
   "execution_count": null,
   "metadata": {
    "collapsed": false
   },
   "outputs": [],
   "source": [
    "MopsPlotter.plotDataframe(full)"
   ]
  },
  {
   "cell_type": "code",
   "execution_count": null,
   "metadata": {
    "collapsed": false
   },
   "outputs": [],
   "source": [
    "ssmids = pd.read_sql_query(\"\"\"\n",
    "SELECT DISTINCT ssmid FROM testsources\n",
    "\"\"\", con)"
   ]
  },
  {
   "cell_type": "code",
   "execution_count": null,
   "metadata": {
    "collapsed": false
   },
   "outputs": [],
   "source": [
    "len(ssmids['ssmid'])"
   ]
  },
  {
   "cell_type": "code",
   "execution_count": null,
   "metadata": {
    "collapsed": false,
    "scrolled": true
   },
   "outputs": [],
   "source": [
    "obj_num = 3"
   ]
  },
  {
   "cell_type": "code",
   "execution_count": null,
   "metadata": {
    "collapsed": true
   },
   "outputs": [],
   "source": [
    "num_ssm = random.sample(ssmids['ssmid'], obj_num)\n",
    "sample = \"\"\n",
    "for i in num_ssm:\n",
    "    sample += str(i) + ', '\n",
    "    \n",
    "sample = '(' + sample[0:-2] + ')'"
   ]
  },
  {
   "cell_type": "code",
   "execution_count": null,
   "metadata": {
    "collapsed": false
   },
   "outputs": [],
   "source": [
    "objs = pd.read_sql_query(\"\"\"\n",
    "SELECT * FROM testsources\n",
    "WHERE ssmid IN %s\n",
    "\"\"\" % (sample), con, index_col='diaid')"
   ]
  },
  {
   "cell_type": "code",
   "execution_count": null,
   "metadata": {
    "collapsed": false
   },
   "outputs": [],
   "source": [
    "objs"
   ]
  },
  {
   "cell_type": "code",
   "execution_count": null,
   "metadata": {
    "collapsed": false,
    "scrolled": true
   },
   "outputs": [],
   "source": [
    "subsampleData = subsampleLocation + \"subsampledata.txt\""
   ]
  },
  {
   "cell_type": "code",
   "execution_count": null,
   "metadata": {
    "collapsed": false,
    "scrolled": true
   },
   "outputs": [],
   "source": [
    "objs.to_csv(subsampleData, sep=\" \", header=False, index='diaid')"
   ]
  },
  {
   "cell_type": "code",
   "execution_count": null,
   "metadata": {
    "collapsed": false
   },
   "outputs": [],
   "source": [
    "MopsPlotter.plotDataframe(objs)"
   ]
  },
  {
   "cell_type": "code",
   "execution_count": null,
   "metadata": {
    "collapsed": false
   },
   "outputs": [],
   "source": [
    "! rm -rf {subsampleLocation}/nightly/\n",
    "! rm -rf {subsampleLocation}/obshist/\n",
    "! mkdir {subsampleLocation}/nightly\n",
    "! mkdir {subsampleLocation}/obshist\n",
    "\n",
    "nightly = subsampleLocation + \"/nightly\"\n",
    "obshist = subsampleLocation + \"/obshist\""
   ]
  },
  {
   "cell_type": "code",
   "execution_count": null,
   "metadata": {
    "collapsed": false
   },
   "outputs": [],
   "source": [
    "import subprocess\n",
    "call = [\"python\", os.getenv(\"MOPS_DIR\") + \"/bin/splitByNight.py\", \"-n\", nightly,subsampleData]\n",
    "subprocess.call(call);"
   ]
  },
  {
   "cell_type": "code",
   "execution_count": null,
   "metadata": {
    "collapsed": false,
    "scrolled": true
   },
   "outputs": [],
   "source": [
    "! rm -rf {subsampleLocation}/subsampleRun"
   ]
  },
  {
   "cell_type": "code",
   "execution_count": null,
   "metadata": {
    "collapsed": false
   },
   "outputs": [],
   "source": [
    "! python runMops.py {subsampleLocation}/nightly {subsampleLocation}/subsampleRun"
   ]
  },
  {
   "cell_type": "code",
   "execution_count": null,
   "metadata": {
    "collapsed": false
   },
   "outputs": [],
   "source": [
    "parameters = MopsParameters.fromYaml(subsampleLocation + \"subsampleRun/parameters.yaml\")\n",
    "tracker = MopsTracker.fromYaml(subsampleLocation + \"subsampleRun/tracker.yaml\")"
   ]
  },
  {
   "cell_type": "code",
   "execution_count": null,
   "metadata": {
    "collapsed": false
   },
   "outputs": [],
   "source": [
    "MopsPlotter.plotTracklets(tracker.diasources[:1], tracker.tracklets[:1])"
   ]
  },
  {
   "cell_type": "code",
   "execution_count": null,
   "metadata": {
    "collapsed": false
   },
   "outputs": [],
   "source": [
    "MopsPlotter.plotTracklets(tracker.diasources, tracker.collapsedTrackletsById)"
   ]
  },
  {
   "cell_type": "code",
   "execution_count": null,
   "metadata": {
    "collapsed": false,
    "scrolled": false
   },
   "outputs": [],
   "source": [
    "MopsPlotter.plotTracklets(tracker.diasources, tracker.purifiedTrackletsById)"
   ]
  },
  {
   "cell_type": "code",
   "execution_count": null,
   "metadata": {
    "collapsed": false
   },
   "outputs": [],
   "source": [
    "MopsPlotter.plotTracks(tracker.dets, tracker.tracks)"
   ]
  },
  {
   "cell_type": "code",
   "execution_count": null,
   "metadata": {
    "collapsed": false
   },
   "outputs": [],
   "source": [
    "tracker.finalTracks"
   ]
  },
  {
   "cell_type": "code",
   "execution_count": null,
   "metadata": {
    "collapsed": false
   },
   "outputs": [],
   "source": [
    "MopsPlotter.plotTracks(tracker.dets, tracker.finalTracks)"
   ]
  },
  {
   "cell_type": "code",
   "execution_count": null,
   "metadata": {
    "collapsed": false,
    "scrolled": true
   },
   "outputs": [],
   "source": [
    "import MopsAnalysis"
   ]
  },
  {
   "cell_type": "code",
   "execution_count": null,
   "metadata": {
    "collapsed": false,
    "scrolled": true
   },
   "outputs": [],
   "source": [
    "analysis = MopsAnalysis.runAnalysis(parameters, tracker)"
   ]
  },
  {
   "cell_type": "code",
   "execution_count": null,
   "metadata": {
    "collapsed": false,
    "scrolled": false
   },
   "outputs": [],
   "source": [
    "analysis.analyze()"
   ]
  },
  {
   "cell_type": "code",
   "execution_count": null,
   "metadata": {
    "collapsed": false
   },
   "outputs": [],
   "source": [
    "analysis.finalTrackletDetFileSizes"
   ]
  },
  {
   "cell_type": "code",
   "execution_count": null,
   "metadata": {
    "collapsed": false
   },
   "outputs": [],
   "source": [
    "analysis.totalTracklets"
   ]
  },
  {
   "cell_type": "code",
   "execution_count": null,
   "metadata": {
    "collapsed": false
   },
   "outputs": [],
   "source": [
    "analysis.totalCollapsedTracklets"
   ]
  },
  {
   "cell_type": "code",
   "execution_count": null,
   "metadata": {
    "collapsed": false
   },
   "outputs": [],
   "source": [
    "analysis.subsetTracks"
   ]
  },
  {
   "cell_type": "code",
   "execution_count": null,
   "metadata": {
    "collapsed": false
   },
   "outputs": [],
   "source": [
    "analysis.longestTracks"
   ]
  },
  {
   "cell_type": "code",
   "execution_count": null,
   "metadata": {
    "collapsed": false
   },
   "outputs": [],
   "source": [
    "analysis.ssmidsOfInterest"
   ]
  },
  {
   "cell_type": "code",
   "execution_count": null,
   "metadata": {
    "collapsed": false
   },
   "outputs": [],
   "source": [
    "analysis.ssmidsOfInterestObjects[2].tracks"
   ]
  },
  {
   "cell_type": "code",
   "execution_count": null,
   "metadata": {
    "collapsed": false
   },
   "outputs": [],
   "source": [
    "testObject = analysis.ssmidsOfInterestObjects[2]"
   ]
  },
  {
   "cell_type": "code",
   "execution_count": null,
   "metadata": {
    "collapsed": false
   },
   "outputs": [],
   "source": [
    "testObject.tracks['59581-59596'][0].diasources[0]"
   ]
  },
  {
   "cell_type": "code",
   "execution_count": null,
   "metadata": {
    "collapsed": false,
    "scrolled": true
   },
   "outputs": [],
   "source": [
    "testObject.tracks['59593-59608'][2].isSubset"
   ]
  },
  {
   "cell_type": "code",
   "execution_count": null,
   "metadata": {
    "collapsed": false
   },
   "outputs": [],
   "source": [
    "testObject.tracks['59593-59608'][2].isTrue"
   ]
  },
  {
   "cell_type": "code",
   "execution_count": null,
   "metadata": {
    "collapsed": false
   },
   "outputs": [],
   "source": [
    "def plotTrackObj(ax, track):\n",
    "    ras = []\n",
    "    decs = []\n",
    "    for diasource in track.diasources:\n",
    "        ras.append(diasource.ra)\n",
    "        decs.append(diasource.dec)\n",
    "        \n",
    "    ax.plot(ras, decs)"
   ]
  },
  {
   "cell_type": "code",
   "execution_count": null,
   "metadata": {
    "collapsed": false
   },
   "outputs": [],
   "source": [
    "fig, ax = plt.subplots(1,1)\n",
    "for track in testObject.tracks['59593-59608']:\n",
    "    plotTrackObj(ax, track)"
   ]
  },
  {
   "cell_type": "code",
   "execution_count": null,
   "metadata": {
    "collapsed": true
   },
   "outputs": [],
   "source": [
    "def makeContiguous(angles):\n",
    "    a0 = angles[0]\n",
    "    output = [a0]\n",
    "    for angle in angles[1:]:\n",
    "        while abs(angle - a0) > 180:\n",
    "            if angle > a0:\n",
    "                angle -= 360.\n",
    "            else:\n",
    "                angle += 360.\n",
    "        output.append(angle)\n",
    "    return output\n",
    "\n",
    "def convertToStandardDegrees(angle):\n",
    "    while angle > 360.:\n",
    "        angle -= 360.\n",
    "    while angle < 0.:\n",
    "        angle += 360.\n",
    "    return angle\n",
    "\n",
    "def calcDegToRad(angle):\n",
    "    return angle*(np.pi/180.0)\n",
    "\n",
    "def calcRadToDeg(angle):\n",
    "    return angle*(180.0/np.pi)\n",
    "\n",
    "def calcAngularDistance(a, b):\n",
    "    while abs(a - b) > 180:\n",
    "        if a > b:\n",
    "            b += 360.\n",
    "        else:\n",
    "            a += 360.\n",
    "    return a - b\n",
    "\n",
    "def calcGreatCircleDistance(ra0, dec0, ra1, dec1):\n",
    "    ra_dist = calcAngularDistance(ra0, ra1);\n",
    "    dec_dist = calcAngularDistance(dec0, dec1);    \n",
    "    # Convert all factors to radians\n",
    "    ra_dist = calcDegToRad(convertToStandardDegrees(ra_dist));\n",
    "    dec_dist = calcDegToRad(convertToStandardDegrees(dec_dist));\n",
    "    dec0 = calcDegToRad(convertToStandardDegrees(dec0));\n",
    "    dec1 = calcDegToRad(convertToStandardDegrees(dec1));\n",
    "    r = 2*np.arcsin(np.sqrt((np.sin(dec_dist/2.))**2 + np.cos(dec0)*np.cos(dec1)*(np.sin(ra_dist/2))**2));\n",
    "    # Back to degrees\n",
    "    return calcRadToDeg(r);\n",
    "    \n",
    "def calcRMS(diasources):\n",
    "    t0 = min(map(lambda x: x.mjd, diasources))\n",
    "    ras = []\n",
    "    decs = []\n",
    "    mjds = []\n",
    "    for diasource in diasources:\n",
    "        ras.append(diasource.ra)\n",
    "        decs.append(diasource.dec)\n",
    "        mjds.append(diasource.mjd - t0)\n",
    "    ras = makeContiguous(ras)\n",
    "    decs = makeContiguous(decs)\n",
    "    ras = np.array(ras)\n",
    "    decs = np.array(decs)\n",
    "    mjds = np.array(mjds)\n",
    "\n",
    "    raFunc, raRes, rank, svd, rcond = np.polyfit(mjds, ras, 2, full=True)\n",
    "    decFunc, decRes, rank, svd, rcond = np.polyfit(mjds, decs, 2, full=True)\n",
    "    raFunc = np.poly1d(raFunc)\n",
    "    decFunc = np.poly1d(decFunc)\n",
    "\n",
    "    #now get the euclidean distance between predicted and observed for each point\n",
    "    netSqDist = 0.0\n",
    "    dists = []\n",
    "    for i in range(len(mjds)):\n",
    "        predRa = raFunc(mjds[i])\n",
    "        predDec = decFunc(mjds[i])\n",
    "        dist = calcGreatCircleDistance(predRa, predDec, ras[i], decs[i])\n",
    "        dists.append(dist)\n",
    "        if (dist > .1):\n",
    "            print \"Unexpected wierdness, diasource had angular distance of %f from best-fit curve prediction\" % (dist)\n",
    "            print \"Predicted RA, Dec were \", predRa, predDec\n",
    "            print \"observed RA, Dec were \", ras[i], decs[i]\n",
    "            print \"all RAs were \", ras\n",
    "            print \"all decs were \", decs\n",
    "        sqDist = dist**2\n",
    "        #print \"got euclidean distance was \", sqDist\n",
    "        netSqDist += sqDist\n",
    "\n",
    "    rms = np.sqrt(netSqDist / len(diasources))\n",
    "    if (rms > .1):\n",
    "        print \"RMS error was %f \" % (rms)\n",
    "    return rms, raRes[0], decRes[0], dists\n",
    "\n",
    "def countFindableTrueTrackletsAndSSMIDs(dataframe, minDetections, vmax):\n",
    "    findableTrueTracklets = 0\n",
    "    \n",
    "    possible_ssmids = dataframe.groupby(\"ssmid\").filter(lambda x: len(x) >= minDetections)\n",
    "    unique_ssmids = possible_ssmids['ssmid'].unique()\n",
    "    findable_ssmids = []\n",
    "    \n",
    "    for unique_ssmid in unique_ssmids:\n",
    "        detections = possible_ssmids[possible_ssmids[\"ssmid\"] == unique_ssmid]\n",
    "        detections.sort(columns=\"mjd\")\n",
    "\n",
    "        start_mjd = min(detections['mjd'])\n",
    "        end_mjd = max(detections['mjd'])\n",
    "\n",
    "        dt = end_mjd - start_mjd\n",
    "        max_distance = dt*vmax\n",
    "\n",
    "        total_distance = 0.0\n",
    "        total_time = 0.0\n",
    "\n",
    "        for det0, det1 in zip(detections.iloc[:-1].itertuples(), detections.iloc[1:].itertuples()):\n",
    "            total_distance += calcGreatCircleDistance(det0[3], det0[4], det1[3], det1[4])\n",
    "\n",
    "        if max_distance > total_distance:\n",
    "             findableTrueTracklets += 1\n",
    "             findable_ssmids.append(unique_ssmid)\n",
    "                \n",
    "    return findableTrueTracklets, findable_ssmids"
   ]
  },
  {
   "cell_type": "code",
   "execution_count": null,
   "metadata": {
    "collapsed": false
   },
   "outputs": [],
   "source": [
    "42323.23 - 42323.20"
   ]
  },
  {
   "cell_type": "code",
   "execution_count": null,
   "metadata": {
    "collapsed": false
   },
   "outputs": [],
   "source": [
    "countFindableTrueTrackletsAndSSMIDs(objs, 2, 0.5)"
   ]
  },
  {
   "cell_type": "code",
   "execution_count": null,
   "metadata": {
    "collapsed": false
   },
   "outputs": [],
   "source": [
    "def countFindableTrueTracks(dataframe, minDetectionsPerNight, minNights):\n",
    "    findableTracks = 0\n",
    "    \n",
    "    possible_ssmids = dataframe.groupby(\"ssmid\").filter(lambda x: len(x) >= minDetectionsPerNight*minNights)\n",
    "    unique_ssmids = possible_ssmids['ssmid'].unique()\n",
    "    findable_ssmids = []\n",
    "    \n",
    "    for unique_ssmid in unique_ssmids:\n",
    "        detections = possible_ssmids[possible_ssmids[\"ssmid\"] == unique_ssmid]\n",
    "        unique, counts = np.unique(detections.sort(columns=\"mjd\")['mjd'].unique().astype(int), return_counts=True)\n",
    "        if len(counts[counts >= minDetectionsPerNight]) >= minNights:\n",
    "            findableTracks += 1\n",
    "            findable_ssmids.append(unique_ssmid)\n",
    "\n",
    "    return findableTracks, findable_ssmids"
   ]
  },
  {
   "cell_type": "code",
   "execution_count": null,
   "metadata": {
    "collapsed": false
   },
   "outputs": [],
   "source": [
    "countFindableTrueTracks(objs, 2, 3)"
   ]
  },
  {
   "cell_type": "code",
   "execution_count": null,
   "metadata": {
    "collapsed": false
   },
   "outputs": [],
   "source": [
    "len(objs.index)"
   ]
  },
  {
   "cell_type": "code",
   "execution_count": null,
   "metadata": {
    "collapsed": false
   },
   "outputs": [],
   "source": [
    "for unique_ssmid in unique_ssmids:\n",
    "        detections = possible_ssmids[possible_ssmids[\"ssmid\"] == unique_ssmid]\n",
    "    "
   ]
  },
  {
   "cell_type": "code",
   "execution_count": null,
   "metadata": {
    "collapsed": false
   },
   "outputs": [],
   "source": [
    "detections.filter(int(detections['mjd']))"
   ]
  },
  {
   "cell_type": "code",
   "execution_count": null,
   "metadata": {
    "collapsed": false
   },
   "outputs": [],
   "source": [
    "int(analysis.windows[0].split('-')[1]) - int(analysis.windows[0].split('-')[0])"
   ]
  },
  {
   "cell_type": "code",
   "execution_count": null,
   "metadata": {
    "collapsed": false
   },
   "outputs": [],
   "source": [
    "text.astype(int)"
   ]
  },
  {
   "cell_type": "code",
   "execution_count": null,
   "metadata": {
    "collapsed": true
   },
   "outputs": [],
   "source": [
    "def checkWindow(window, onlyFullWindows, fullWindowSize):\n",
    "    if onlyFullWindows:\n",
    "        if int(window.split('-')[1]) - int(window.split('-')[0]) == fullWindowSize:\n",
    "            return True\n",
    "        else:\n",
    "            return False\n",
    "    else:\n",
    "        return True\n",
    " "
   ]
  },
  {
   "cell_type": "code",
   "execution_count": null,
   "metadata": {
    "collapsed": false
   },
   "outputs": [],
   "source": [
    "checkWindow(analysis.windows[15], True, 15)"
   ]
  },
  {
   "cell_type": "code",
   "execution_count": null,
   "metadata": {
    "collapsed": false
   },
   "outputs": [],
   "source": [
    "a = np.array([])"
   ]
  },
  {
   "cell_type": "code",
   "execution_count": null,
   "metadata": {
    "collapsed": false
   },
   "outputs": [],
   "source": [
    "b = np.append(a, 23)"
   ]
  },
  {
   "cell_type": "code",
   "execution_count": null,
   "metadata": {
    "collapsed": false
   },
   "outputs": [],
   "source": [
    "np.append(b, 25)"
   ]
  },
  {
   "cell_type": "code",
   "execution_count": null,
   "metadata": {
    "collapsed": false
   },
   "outputs": [],
   "source": [
    "b.extend(3)"
   ]
  },
  {
   "cell_type": "code",
   "execution_count": null,
   "metadata": {
    "collapsed": false
   },
   "outputs": [],
   "source": [
    "np.empty([23])"
   ]
  },
  {
   "cell_type": "code",
   "execution_count": null,
   "metadata": {
    "collapsed": false,
    "scrolled": false
   },
   "outputs": [],
   "source": [
    "analysis.__dict__"
   ]
  },
  {
   "cell_type": "code",
   "execution_count": null,
   "metadata": {
    "collapsed": false
   },
   "outputs": [],
   "source": [
    "analysis.trackletFileSizes['59580']"
   ]
  },
  {
   "cell_type": "code",
   "execution_count": null,
   "metadata": {
    "collapsed": false
   },
   "outputs": [],
   "source": [
    "fig, ax = plt.subplots(1,1)\n",
    "\n",
    "for i, night in enumerate(analysis.nights):\n",
    "    ax.scatter(i, analysis.trackletFileSizes[night])\n",
    "    ax.scatter(i, analysis.collapsedTrackletFileSizes[night])\n",
    "    ax.scatter(i, analysis.purifiedTrackletFileSizes[night])\n",
    "    ax.scatter(i, analysis.finalTrackletFileSizes[night])\n",
    "    \n",
    "for i, window in enumerate(analysis.windows)\n",
    "    "
   ]
  },
  {
   "cell_type": "code",
   "execution_count": null,
   "metadata": {
    "collapsed": false
   },
   "outputs": [],
   "source": [
    "fig, ax = plt.subplots(1,1)\n",
    "  \n",
    "for i, window in enumerate(analysis.windows):\n",
    "    ax.scatter(i, analysis.trackFileSizes[window], color='red')\n",
    "    ax.scatter(i, analysis.trackDetFileSizes[window], color='blue')\n",
    "    ax.scatter(i, analysis.trackIdFileSizes[window])\n",
    "    \n",
    "\n",
    "def plotAxisSetter(ax)\n",
    "ax.set_ylim([0,15000]);\n",
    "ax.set_xlim([0,30])\n",
    "    "
   ]
  },
  {
   "cell_type": "code",
   "execution_count": null,
   "metadata": {
    "collapsed": false
   },
   "outputs": [],
   "source": [
    "import lsst.sims.maf.metrics"
   ]
  },
  {
   "cell_type": "code",
   "execution_count": null,
   "metadata": {
    "collapsed": false
   },
   "outputs": [],
   "source": [
    "import MopsReader"
   ]
  },
  {
   "cell_type": "code",
   "execution_count": null,
   "metadata": {
    "collapsed": false
   },
   "outputs": [],
   "source": [
    "import moMetrics"
   ]
  },
  {
   "cell_type": "code",
   "execution_count": null,
   "metadata": {
    "collapsed": false
   },
   "outputs": [],
   "source": [
    "from lsst.sims.maf import metrics"
   ]
  },
  {
   "cell_type": "code",
   "execution_count": null,
   "metadata": {
    "collapsed": true
   },
   "outputs": [],
   "source": []
  }
 ],
 "metadata": {
  "kernelspec": {
   "display_name": "Python 2",
   "language": "python",
   "name": "python2"
  },
  "language_info": {
   "codemirror_mode": {
    "name": "ipython",
    "version": 2
   },
   "file_extension": ".py",
   "mimetype": "text/x-python",
   "name": "python",
   "nbconvert_exporter": "python",
   "pygments_lexer": "ipython2",
   "version": "2.7.11"
  }
 },
 "nbformat": 4,
 "nbformat_minor": 0
}
