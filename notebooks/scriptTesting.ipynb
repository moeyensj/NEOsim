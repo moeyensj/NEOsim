{
 "cells": [
  {
   "cell_type": "code",
   "execution_count": null,
   "metadata": {
    "collapsed": true
   },
   "outputs": [],
   "source": [
    "import sqlite3 as sql\n",
    "import pandas as pd\n",
    "import matplotlib.pyplot as plt\n",
    "import numpy as np\n",
    "import random\n",
    "import yaml\n",
    "\n",
    "import MopsPlotter\n",
    "import MopsReader\n",
    "#import MopsAnalysis\n",
    "from MopsTracker import MopsTracker\n",
    "from MopsParameters import MopsParameters\n",
    "\n",
    "% matplotlib inline"
   ]
  },
  {
   "cell_type": "code",
   "execution_count": null,
   "metadata": {
    "collapsed": true
   },
   "outputs": [],
   "source": [
    "dbname = 'testData/testsources.db'"
   ]
  },
  {
   "cell_type": "code",
   "execution_count": null,
   "metadata": {
    "collapsed": false
   },
   "outputs": [],
   "source": [
    "con = sql.connect(dbname)"
   ]
  },
  {
   "cell_type": "code",
   "execution_count": null,
   "metadata": {
    "collapsed": false
   },
   "outputs": [],
   "source": [
    "full = pd.read_sql_query(\"\"\"\n",
    "SELECT * FROM testsources\n",
    "\"\"\", con)"
   ]
  },
  {
   "cell_type": "code",
   "execution_count": null,
   "metadata": {
    "collapsed": false
   },
   "outputs": [],
   "source": [
    "full"
   ]
  },
  {
   "cell_type": "code",
   "execution_count": null,
   "metadata": {
    "collapsed": false
   },
   "outputs": [],
   "source": [
    "fig, ax = plt.subplots(1,1, dpi=400)\n",
    "ax.scatter(np.array(full.ra), np.array(full.dec));\n",
    "fig.savefig(\"full.jpg\")"
   ]
  },
  {
   "cell_type": "code",
   "execution_count": null,
   "metadata": {
    "collapsed": false
   },
   "outputs": [],
   "source": [
    "ssmids = pd.read_sql_query(\"\"\"\n",
    "SELECT DISTINCT ssmid FROM testsources\n",
    "\"\"\", con)"
   ]
  },
  {
   "cell_type": "code",
   "execution_count": null,
   "metadata": {
    "collapsed": false
   },
   "outputs": [],
   "source": [
    "len(ssmids['ssmid'])"
   ]
  },
  {
   "cell_type": "code",
   "execution_count": null,
   "metadata": {
    "collapsed": false
   },
   "outputs": [],
   "source": [
    "num_ssm = random.sample(ssmids['ssmid'], 1)\n",
    "sample = \"\"\n",
    "for i in num_ssm:\n",
    "    sample += str(i) + ', '\n",
    "    \n",
    "sample = '(' + sample[0:-2] + ')'"
   ]
  },
  {
   "cell_type": "code",
   "execution_count": null,
   "metadata": {
    "collapsed": false
   },
   "outputs": [],
   "source": [
    "sample = (\"(3)\")"
   ]
  },
  {
   "cell_type": "code",
   "execution_count": null,
   "metadata": {
    "collapsed": false
   },
   "outputs": [],
   "source": [
    "objs = pd.read_sql_query(\"\"\"\n",
    "SELECT * FROM testsources\n",
    "WHERE ssmid IN %s\n",
    "\"\"\" % (sample), con)"
   ]
  },
  {
   "cell_type": "code",
   "execution_count": null,
   "metadata": {
    "collapsed": false
   },
   "outputs": [],
   "source": [
    "objs"
   ]
  },
  {
   "cell_type": "code",
   "execution_count": null,
   "metadata": {
    "collapsed": true
   },
   "outputs": [],
   "source": [
    "objs.to_csv(\"moresample.txt\", sep=\" \", header=False, index=False)"
   ]
  },
  {
   "cell_type": "code",
   "execution_count": null,
   "metadata": {
    "collapsed": false
   },
   "outputs": [],
   "source": [
    "MopsPlotter.plotData(objs)"
   ]
  },
  {
   "cell_type": "code",
   "execution_count": null,
   "metadata": {
    "collapsed": false
   },
   "outputs": [],
   "source": [
    "! rm -rf nightly/\n",
    "! rm -rf obshist/\n",
    "! mkdir nightly\n",
    "! mkdir obshist"
   ]
  },
  {
   "cell_type": "code",
   "execution_count": null,
   "metadata": {
    "collapsed": false
   },
   "outputs": [],
   "source": [
    "! python $MOPS_DIR/bin/splitByNight.py moresample.txt nightly obshist "
   ]
  },
  {
   "cell_type": "code",
   "execution_count": null,
   "metadata": {
    "collapsed": true
   },
   "outputs": [],
   "source": [
    "! rm -rf run/"
   ]
  },
  {
   "cell_type": "code",
   "execution_count": null,
   "metadata": {
    "collapsed": false
   },
   "outputs": [],
   "source": [
    "! python ../runMops.py nightly run -w 15 #-cfg *.cfg"
   ]
  },
  {
   "cell_type": "code",
   "execution_count": null,
   "metadata": {
    "collapsed": false
   },
   "outputs": [],
   "source": [
    "parameters = yaml.load(file('/Users/joachim/repos/neosim/unittest/run/parameters.yaml','r'))\n",
    "tracker = yaml.load(file('/Users/joachim/repos/neosim/unittest/run/tracker.yaml','r'))"
   ]
  },
  {
   "cell_type": "code",
   "execution_count": null,
   "metadata": {
    "collapsed": false,
    "scrolled": false
   },
   "outputs": [],
   "source": [
    "MopsPlotter.plotTracklets(objs, tracker.tracklets)"
   ]
  },
  {
   "cell_type": "code",
   "execution_count": null,
   "metadata": {
    "collapsed": false
   },
   "outputs": [],
   "source": [
    "MopsPlotter.plotTracklets(objs, tracker.collapsedTrackletsById)"
   ]
  },
  {
   "cell_type": "code",
   "execution_count": null,
   "metadata": {
    "collapsed": false
   },
   "outputs": [],
   "source": [
    "MopsPlotter.plotTracklets(objs, tracker.purifiedTrackletsById)"
   ]
  },
  {
   "cell_type": "code",
   "execution_count": null,
   "metadata": {
    "collapsed": false
   },
   "outputs": [],
   "source": [
    "MopsPlotter.plotTracklets(objs, tracker.finalTrackletsById)"
   ]
  },
  {
   "cell_type": "code",
   "execution_count": null,
   "metadata": {
    "collapsed": false,
    "scrolled": false
   },
   "outputs": [],
   "source": [
    "MopsPlotter.plotTracks(objs, tracker.tracks)"
   ]
  },
  {
   "cell_type": "code",
   "execution_count": null,
   "metadata": {
    "collapsed": false
   },
   "outputs": [],
   "source": [
    "import MopsAnalysis"
   ]
  },
  {
   "cell_type": "code",
   "execution_count": null,
   "metadata": {
    "collapsed": false
   },
   "outputs": [],
   "source": [
    "ssmids = MopsAnalysis.findSSMIDs(objs, [2,4,170])"
   ]
  },
  {
   "cell_type": "code",
   "execution_count": null,
   "metadata": {
    "collapsed": false
   },
   "outputs": [],
   "source": [
    "ssmids"
   ]
  },
  {
   "cell_type": "code",
   "execution_count": null,
   "metadata": {
    "collapsed": false
   },
   "outputs": [],
   "source": [
    "MopsAnalysis.checkSSMIDs(MopsAnalysis.findSSMIDs(objs, [2,4,170]))"
   ]
  },
  {
   "cell_type": "code",
   "execution_count": null,
   "metadata": {
    "collapsed": false
   },
   "outputs": [],
   "source": [
    "MopsAnalysis.countSSMIDs(objs)"
   ]
  },
  {
   "cell_type": "code",
   "execution_count": null,
   "metadata": {
    "collapsed": false
   },
   "outputs": [],
   "source": [
    "test = tracker.dets[2]"
   ]
  },
  {
   "cell_type": "code",
   "execution_count": null,
   "metadata": {
    "collapsed": false
   },
   "outputs": [],
   "source": [
    "df = pd.read_csv(test, sep=' ', header=None, names=['diaid', 'obshistid', 'ssmid', 'ra', 'dec', 'mjd', 'mag', 'snr'])"
   ]
  },
  {
   "cell_type": "code",
   "execution_count": null,
   "metadata": {
    "collapsed": false
   },
   "outputs": [],
   "source": [
    "import MopsReader"
   ]
  },
  {
   "cell_type": "code",
   "execution_count": null,
   "metadata": {
    "collapsed": false
   },
   "outputs": [],
   "source": [
    "df = MopsReader.readDetections(test)"
   ]
  },
  {
   "cell_type": "code",
   "execution_count": null,
   "metadata": {
    "collapsed": false
   },
   "outputs": [],
   "source": [
    "df"
   ]
  },
  {
   "cell_type": "code",
   "execution_count": null,
   "metadata": {
    "collapsed": false
   },
   "outputs": [],
   "source": [
    "from MopsObjects import diasource\n",
    "from MopsObjects import tracklet\n",
    "from MopsObjects import track\n",
    "from MopsAnalysis import runAnalysis\n",
    "import os\n",
    "import time"
   ]
  },
  {
   "cell_type": "code",
   "execution_count": null,
   "metadata": {
    "collapsed": true
   },
   "outputs": [],
   "source": [
    "def checkSSMIDs(ssmids):\n",
    "    uniqueIds = np.unique(ssmids)\n",
    "    if len(uniqueIds) == 1:\n",
    "        return True\n",
    "    else:\n",
    "        return False\n",
    "\n",
    "def countSSMIDs(dataframe):\n",
    "    return dataframe['ssmid'].nunique()\n"
   ]
  },
  {
   "cell_type": "code",
   "execution_count": null,
   "metadata": {
    "collapsed": false
   },
   "outputs": [],
   "source": [
    "def analyzeTracks(trackFile, detFile, idsFile, verbose=True):\n",
    "    startTime = time.ctime()\n",
    "    print \"Starting analysis for %s at %s\" % (os.path.basename(trackFile), startTime)\n",
    "    \n",
    "    # Create outfile to store results\n",
    "    outFile = trackFile + \".results\"\n",
    "    outFileOut = open(outFile, \"w\")\n",
    "    print \"Writing results to %s\" % (outFile)\n",
    "    \n",
    "    # Read detections into a dataframe\n",
    "    dets_df = MopsReader.readDetections(detFile)\n",
    "    \n",
    "    trackFileIn = open(trackFile, \"r\")\n",
    "    tracks = []\n",
    "    diasource_dict = {}\n",
    "    \n",
    "    # Initalize success (or failure) counters\n",
    "    total_tracks = 0\n",
    "    true_tracks = 0\n",
    "    false_tracks = 0\n",
    "    unique_ssmids = countSSMIDs(dets_df)\n",
    "    found_ssmids = {}\n",
    "    \n",
    "    # Examine each line in trackFile and read in every line\n",
    "    #  as a track object. If track contains new detections (diasource)\n",
    "    #  then add new source to diasource_dict. \n",
    "    for line in trackFileIn:\n",
    "        # Found a track!\n",
    "        total_tracks += 1\n",
    "        new_track_diaids = MopsReader.readTrack(line)\n",
    "        new_track = []\n",
    "        \n",
    "        # Look up each diaid in the track, check if diasource object exists.\n",
    "        #  If it does exist then add it to the new track object, if not then create the object\n",
    "        #  and update the diasource object dictionary.\n",
    "        for diaid in new_track_diaids:\n",
    "            ssmids = []\n",
    "            if diaid in diasource_dict:\n",
    "                ssmids.append(diasource_dict[diaid].ssmid)\n",
    "                new_track.append(diasource_dict[diaid])\n",
    "                \n",
    "                if diasource_dict[diaid].ssmid in found_ssmids:\n",
    "                    found_ssmids[diasource_dict[diaid].ssmid] += 1\n",
    "                else:\n",
    "                    found_ssmids[diasource_dict[diaid].ssmid] = 1\n",
    "            \n",
    "            else:\n",
    "                new_diasource = dets_df.loc[diaid]\n",
    "                new_diasource_obj = diasource(int(diaid), new_diasource['ssmid'],\n",
    "                             new_diasource['obshistid'], new_diasource['ra'],\n",
    "                             new_diasource['dec'], new_diasource['mjd'],\n",
    "                             new_diasource['mag'], new_diasource['snr'])\n",
    "                diasource_dict[diaid] = new_diasource_obj\n",
    "                \n",
    "                ssmids.append(diasource_dict[diaid].ssmid)\n",
    "                new_track.append(new_diasource_obj)\n",
    "                \n",
    "        isTrue = checkSSMIDs(ssmids)  \n",
    "        if isTrue:\n",
    "            # Track is true! \n",
    "            true_tracks += 1\n",
    "        else:\n",
    "            # Track is false. \n",
    "            false_tracks += 1\n",
    "            \n",
    "        final_track = track(new_track) \n",
    "        final_track.isTrue = isTrue\n",
    "        final_track.rms, final_track.raRes, final_track.decRes, final_track.distances = calcRMS(final_track.diasources)\n",
    "        tracks.append(final_track)\n",
    "        \n",
    "    endTime = time.ctime()\n",
    "    print \"Finished analysis for %s at %s\" % (os.path.basename(trackFile), endTime)\n",
    "\n",
    "    outFileOut.write(\"Start time: %s\\n\" % (startTime))\n",
    "    outFileOut.write(\"True tracks: %s\\n\" % (true_tracks))\n",
    "    outFileOut.write(\"False tracks: %s\\n\" % (false_tracks))\n",
    "    outFileOut.write(\"Total tracks: %s\\n\" % (total_tracks))\n",
    "    outFileOut.write(\"Findable objects: %s\\n\" % (unique_ssmids))\n",
    "    outFileOut.write(\"Found objects: %s\\n\" % (len(found_ssmids)))\n",
    "    outFileOut.write(\"End time: %s\\n\" % (endTime))\n",
    "\n",
    "    return true_tracks, false_tracks, total_tracks, unique_ssmids, found_ssmids, tracks"
   ]
  },
  {
   "cell_type": "code",
   "execution_count": null,
   "metadata": {
    "collapsed": false,
    "scrolled": false
   },
   "outputs": [],
   "source": [
    "t,tt,ttt,a,b,ts = analyzeTracks(tracker.tracks[0], tracker.dets[0], tracker.ids[0])"
   ]
  },
  {
   "cell_type": "code",
   "execution_count": null,
   "metadata": {
    "collapsed": false
   },
   "outputs": [],
   "source": [
    "ts[3].isTrue"
   ]
  },
  {
   "cell_type": "code",
   "execution_count": null,
   "metadata": {
    "collapsed": false
   },
   "outputs": [],
   "source": [
    "diasource_dict[int(diaid)] = diasource(int(diaid), int(new_diasource['ssmid']),\n",
    "                             int(new_diasource['obshistid']), float(new_diasource['ra']),\n",
    "                             float(new_diasource['dec']), float(new_diasource['mjd']),\n",
    "                             float(new_diasource['mag']), float(new_diasource['snr']))"
   ]
  },
  {
   "cell_type": "code",
   "execution_count": null,
   "metadata": {
    "collapsed": false
   },
   "outputs": [],
   "source": [
    "while d[i].diaid != 4:\n",
    "    p"
   ]
  },
  {
   "cell_type": "code",
   "execution_count": null,
   "metadata": {
    "collapsed": false
   },
   "outputs": [],
   "source": [
    "tracker.tracks[0]"
   ]
  },
  {
   "cell_type": "code",
   "execution_count": null,
   "metadata": {
    "collapsed": false
   },
   "outputs": [],
   "source": [
    "diasource?"
   ]
  },
  {
   "cell_type": "code",
   "execution_count": null,
   "metadata": {
    "collapsed": false
   },
   "outputs": [],
   "source": [
    "runAnalysis(parameters, tracker)"
   ]
  },
  {
   "cell_type": "code",
   "execution_count": null,
   "metadata": {
    "collapsed": false
   },
   "outputs": [],
   "source": [
    "def calcDegToRad(theta):\n",
    "    return  theta*(np.pi/180.0)\n",
    "\n",
    "def calcRadToDeg(theta):\n",
    "    return theta*(180.0/np.pi)\n",
    "\n",
    "def calcAngularDistance(a, b):\n",
    "    \"\"\" return distance between a and b, where a and b are angles in degrees. \"\"\"\n",
    "    while abs(a - b) > 180:\n",
    "        if a > b:\n",
    "            b += 360.\n",
    "        else:\n",
    "            a += 360.\n",
    "    return a - b\n",
    "\n",
    "def convertToStandardDegrees(angle):\n",
    "    while angle > 360.:\n",
    "        angle -= 360.\n",
    "    while angle < 0.:\n",
    "        angle += 360.\n",
    "    return angle\n",
    "\n",
    "def calcGreatCircleDistance(ra0, dec0, ra1, dec1):\n",
    "    \"\"\"\n",
    "    return the great-circle distance between two points on the sky,\n",
    "    uses haversine formula\n",
    "    \"\"\"\n",
    "    ra_dist = calcAngularDistance(ra0, ra1);\n",
    "    dec_dist = calcAngularDistance(dec0, dec1);    \n",
    "    # Convert all factors to radians\n",
    "    ra_dist = calcDegToRad(convertToStandardDegrees(ra_dist));\n",
    "    dec_dist = calcDegToRad(convertToStandardDegrees(dec_dist));\n",
    "    dec0 = calcDegToRad(convertToStandardDegrees(dec0));\n",
    "    dec1 = calcDegToRad(convertToStandardDegrees(dec1));\n",
    "    r = 2*np.arcsin(np.sqrt((np.sin(dec_dist/2.))**2 + np.cos(dec0)*np.cos(dec1)*(np.sin(ra_dist/2))**2));\n",
    "    # Back to degrees\n",
    "    return calcRadToDeg(r);\n",
    "\n",
    "def makeContiguous(angles):\n",
    "    \"\"\" given a set of angles (say, RAs or Decs of observation) which\n",
    "    span a fairly short arc but may actually cross the 0/360 line,\n",
    "    make these contiguous by using negative angles or whatever is\n",
    "    necessary.  if this set of angles does NOT span a short arc (>180\n",
    "    deg) expect all hell to break loose.\"\"\"\n",
    "    a0 = angles[0]\n",
    "    output = [a0]\n",
    "    for angle in angles[1:]:\n",
    "        while abs(angle - a0) > 180:\n",
    "            if angle > a0:\n",
    "                angle -= 360.\n",
    "            else:\n",
    "                angle += 360.\n",
    "        output.append(angle)\n",
    "    return output\n",
    "    \n",
    "def calcRMS(diasources):\n",
    "    t0 = min(map(lambda x: x.mjd, diasources))\n",
    "    ras = []\n",
    "    decs = []\n",
    "    mjds = []\n",
    "    for diasource in diasources:\n",
    "        ras.append(diasource.ra)\n",
    "        decs.append(diasource.dec)\n",
    "        mjds.append(diasource.mjd - t0)\n",
    "    ras = makeContiguous(ras)\n",
    "    decs = makeContiguous(decs)\n",
    "    ras = np.array(ras)\n",
    "    decs = np.array(decs)\n",
    "    mjds = np.array(mjds)\n",
    "\n",
    "    raFunc, raRes, rank, svd, rcond = np.polyfit(mjds, ras, 2, full=True)\n",
    "    decFunc, decRes, rank, svd, rcond = np.polyfit(mjds, decs, 2, full=True)\n",
    "    raFunc = np.poly1d(raFunc)\n",
    "    decFunc = np.poly1d(decFunc)\n",
    "\n",
    "    #now get the euclidean distance between predicted and observed for each point\n",
    "    netSqDist = 0.0\n",
    "    dists = []\n",
    "    for i in range(len(mjds)):\n",
    "        predRa = raFunc(mjds[i])\n",
    "        predDec = decFunc(mjds[i])\n",
    "        dist = calcGreatCircleDistance(predRa, predDec, ras[i], decs[i])\n",
    "        dists.append(dist)\n",
    "        if (dist > .1):\n",
    "            print \"Unexpected wierdness, diasource had angular distance of %f from best-fit curve prediction\" % (dist)\n",
    "            print \"Predicted RA, Dec were \", predRa, predDec\n",
    "            print \"observed RA, Dec were \", ras[i], decs[i]\n",
    "            print \"all RAs were \", ras\n",
    "            print \"all decs were \", decs\n",
    "        sqDist = dist**2\n",
    "        #print \"got euclidean distance was \", sqDist\n",
    "        netSqDist += sqDist\n",
    "\n",
    "    rms = np.sqrt(netSqDist / len(diasources))\n",
    "    if (rms > .1):\n",
    "        print \"RMS error was %f \" % (rms)\n",
    "    return rms, raRes[0], decRes[0], dists"
   ]
  },
  {
   "cell_type": "code",
   "execution_count": null,
   "metadata": {
    "collapsed": false
   },
   "outputs": [],
   "source": [
    "ts[3].diasources"
   ]
  },
  {
   "cell_type": "code",
   "execution_count": null,
   "metadata": {
    "collapsed": false
   },
   "outputs": [],
   "source": [
    "a,b,c,d = calcRMS(ts[3].diasources)"
   ]
  },
  {
   "cell_type": "code",
   "execution_count": null,
   "metadata": {
    "collapsed": false
   },
   "outputs": [],
   "source": [
    "a"
   ]
  },
  {
   "cell_type": "code",
   "execution_count": null,
   "metadata": {
    "collapsed": false
   },
   "outputs": [],
   "source": [
    "len(d)"
   ]
  },
  {
   "cell_type": "code",
   "execution_count": null,
   "metadata": {
    "collapsed": false
   },
   "outputs": [],
   "source": [
    "test = runAnalysis(parameters, tracker)"
   ]
  },
  {
   "cell_type": "code",
   "execution_count": null,
   "metadata": {
    "collapsed": false
   },
   "outputs": [],
   "source": [
    "test.foundObjects"
   ]
  },
  {
   "cell_type": "code",
   "execution_count": null,
   "metadata": {
    "collapsed": false
   },
   "outputs": [],
   "source": [
    "temp.update({\"1.0\": temp[1.0] += 2})"
   ]
  },
  {
   "cell_type": "code",
   "execution_count": 1,
   "metadata": {
    "collapsed": true
   },
   "outputs": [],
   "source": [
    "import MopsReader"
   ]
  },
  {
   "cell_type": "code",
   "execution_count": 2,
   "metadata": {
    "collapsed": true
   },
   "outputs": [],
   "source": [
    "df = MopsReader.readDetections(\"/Users/joachim/repos/neosim/ldm156_0116_05/trackletsByNight/night_51040_through_51055.dets\")"
   ]
  },
  {
   "cell_type": "code",
   "execution_count": 3,
   "metadata": {
    "collapsed": false
   },
   "outputs": [
    {
     "data": {
      "text/html": [
       "<div>\n",
       "<table border=\"1\" class=\"dataframe\">\n",
       "  <thead>\n",
       "    <tr style=\"text-align: right;\">\n",
       "      <th></th>\n",
       "      <th>obshistid</th>\n",
       "      <th>ssmid</th>\n",
       "      <th>ra</th>\n",
       "      <th>dec</th>\n",
       "      <th>mjd</th>\n",
       "      <th>mag</th>\n",
       "      <th>snr</th>\n",
       "    </tr>\n",
       "    <tr>\n",
       "      <th>diaid</th>\n",
       "      <th></th>\n",
       "      <th></th>\n",
       "      <th></th>\n",
       "      <th></th>\n",
       "      <th></th>\n",
       "      <th></th>\n",
       "      <th></th>\n",
       "    </tr>\n",
       "  </thead>\n",
       "  <tbody>\n",
       "    <tr>\n",
       "      <th>8517223</th>\n",
       "      <td>88677528</td>\n",
       "      <td>49231</td>\n",
       "      <td>234.712038</td>\n",
       "      <td>-36.373855</td>\n",
       "      <td>51039.965572</td>\n",
       "      <td>21.678118</td>\n",
       "      <td>8.404711</td>\n",
       "    </tr>\n",
       "    <tr>\n",
       "      <th>8517224</th>\n",
       "      <td>88677528</td>\n",
       "      <td>443381</td>\n",
       "      <td>236.046013</td>\n",
       "      <td>-36.865381</td>\n",
       "      <td>51039.965572</td>\n",
       "      <td>20.652854</td>\n",
       "      <td>21.608696</td>\n",
       "    </tr>\n",
       "    <tr>\n",
       "      <th>8517225</th>\n",
       "      <td>88677528</td>\n",
       "      <td>430544</td>\n",
       "      <td>234.885339</td>\n",
       "      <td>-37.522868</td>\n",
       "      <td>51039.965572</td>\n",
       "      <td>20.502174</td>\n",
       "      <td>24.825630</td>\n",
       "    </tr>\n",
       "    <tr>\n",
       "      <th>8517226</th>\n",
       "      <td>88677528</td>\n",
       "      <td>455586</td>\n",
       "      <td>236.394079</td>\n",
       "      <td>-35.924614</td>\n",
       "      <td>51039.965572</td>\n",
       "      <td>21.880187</td>\n",
       "      <td>6.977428</td>\n",
       "    </tr>\n",
       "    <tr>\n",
       "      <th>8517227</th>\n",
       "      <td>88677528</td>\n",
       "      <td>478231</td>\n",
       "      <td>236.330113</td>\n",
       "      <td>-36.769353</td>\n",
       "      <td>51039.965572</td>\n",
       "      <td>21.957860</td>\n",
       "      <td>6.495700</td>\n",
       "    </tr>\n",
       "    <tr>\n",
       "      <th>8517228</th>\n",
       "      <td>88677528</td>\n",
       "      <td>490450</td>\n",
       "      <td>236.110757</td>\n",
       "      <td>-34.010774</td>\n",
       "      <td>51039.965572</td>\n",
       "      <td>21.773899</td>\n",
       "      <td>7.695035</td>\n",
       "    </tr>\n",
       "    <tr>\n",
       "      <th>8517229</th>\n",
       "      <td>88677528</td>\n",
       "      <td>424429</td>\n",
       "      <td>235.824192</td>\n",
       "      <td>-34.419941</td>\n",
       "      <td>51039.965572</td>\n",
       "      <td>21.000429</td>\n",
       "      <td>15.689118</td>\n",
       "    </tr>\n",
       "    <tr>\n",
       "      <th>8517230</th>\n",
       "      <td>88677528</td>\n",
       "      <td>547976</td>\n",
       "      <td>235.569189</td>\n",
       "      <td>-34.622987</td>\n",
       "      <td>51039.965572</td>\n",
       "      <td>21.684067</td>\n",
       "      <td>8.358790</td>\n",
       "    </tr>\n",
       "    <tr>\n",
       "      <th>8517231</th>\n",
       "      <td>88677528</td>\n",
       "      <td>478185</td>\n",
       "      <td>237.655788</td>\n",
       "      <td>-35.852953</td>\n",
       "      <td>51039.965572</td>\n",
       "      <td>22.021924</td>\n",
       "      <td>6.123511</td>\n",
       "    </tr>\n",
       "    <tr>\n",
       "      <th>8517232</th>\n",
       "      <td>88677528</td>\n",
       "      <td>410349</td>\n",
       "      <td>233.738416</td>\n",
       "      <td>-35.106639</td>\n",
       "      <td>51039.965572</td>\n",
       "      <td>20.767132</td>\n",
       "      <td>19.449900</td>\n",
       "    </tr>\n",
       "    <tr>\n",
       "      <th>8517233</th>\n",
       "      <td>88677528</td>\n",
       "      <td>620104</td>\n",
       "      <td>234.101991</td>\n",
       "      <td>-35.449591</td>\n",
       "      <td>51039.965572</td>\n",
       "      <td>21.786599</td>\n",
       "      <td>7.605543</td>\n",
       "    </tr>\n",
       "    <tr>\n",
       "      <th>8517234</th>\n",
       "      <td>88677528</td>\n",
       "      <td>677497</td>\n",
       "      <td>234.586392</td>\n",
       "      <td>-34.668492</td>\n",
       "      <td>51039.965572</td>\n",
       "      <td>21.722865</td>\n",
       "      <td>8.065366</td>\n",
       "    </tr>\n",
       "    <tr>\n",
       "      <th>8517235</th>\n",
       "      <td>88677528</td>\n",
       "      <td>637989</td>\n",
       "      <td>233.262679</td>\n",
       "      <td>-35.839552</td>\n",
       "      <td>51039.965572</td>\n",
       "      <td>21.825988</td>\n",
       "      <td>7.334572</td>\n",
       "    </tr>\n",
       "    <tr>\n",
       "      <th>8517236</th>\n",
       "      <td>88677528</td>\n",
       "      <td>678204</td>\n",
       "      <td>235.134545</td>\n",
       "      <td>-35.115319</td>\n",
       "      <td>51039.965572</td>\n",
       "      <td>21.221018</td>\n",
       "      <td>12.804510</td>\n",
       "    </tr>\n",
       "    <tr>\n",
       "      <th>8517237</th>\n",
       "      <td>88677528</td>\n",
       "      <td>540706</td>\n",
       "      <td>235.281485</td>\n",
       "      <td>-34.673314</td>\n",
       "      <td>51039.965572</td>\n",
       "      <td>21.784987</td>\n",
       "      <td>7.616844</td>\n",
       "    </tr>\n",
       "    <tr>\n",
       "      <th>8517238</th>\n",
       "      <td>88677528</td>\n",
       "      <td>664814</td>\n",
       "      <td>232.812695</td>\n",
       "      <td>-35.462741</td>\n",
       "      <td>51039.965572</td>\n",
       "      <td>21.778042</td>\n",
       "      <td>7.665725</td>\n",
       "    </tr>\n",
       "    <tr>\n",
       "      <th>8517239</th>\n",
       "      <td>88677528</td>\n",
       "      <td>670422</td>\n",
       "      <td>235.705235</td>\n",
       "      <td>-36.322251</td>\n",
       "      <td>51039.965572</td>\n",
       "      <td>21.476438</td>\n",
       "      <td>10.120332</td>\n",
       "    </tr>\n",
       "    <tr>\n",
       "      <th>8517240</th>\n",
       "      <td>88677528</td>\n",
       "      <td>675436</td>\n",
       "      <td>235.241818</td>\n",
       "      <td>-34.763683</td>\n",
       "      <td>51039.965572</td>\n",
       "      <td>21.531261</td>\n",
       "      <td>9.622004</td>\n",
       "    </tr>\n",
       "    <tr>\n",
       "      <th>8517241</th>\n",
       "      <td>88677528</td>\n",
       "      <td>834868</td>\n",
       "      <td>236.593531</td>\n",
       "      <td>-37.492363</td>\n",
       "      <td>51039.965572</td>\n",
       "      <td>20.613555</td>\n",
       "      <td>22.405154</td>\n",
       "    </tr>\n",
       "    <tr>\n",
       "      <th>8517242</th>\n",
       "      <td>88677528</td>\n",
       "      <td>854379</td>\n",
       "      <td>234.493202</td>\n",
       "      <td>-34.538317</td>\n",
       "      <td>51039.965572</td>\n",
       "      <td>21.944599</td>\n",
       "      <td>6.575525</td>\n",
       "    </tr>\n",
       "    <tr>\n",
       "      <th>8517243</th>\n",
       "      <td>88677528</td>\n",
       "      <td>888503</td>\n",
       "      <td>235.627606</td>\n",
       "      <td>-37.797320</td>\n",
       "      <td>51039.965572</td>\n",
       "      <td>21.584421</td>\n",
       "      <td>9.162241</td>\n",
       "    </tr>\n",
       "    <tr>\n",
       "      <th>8517244</th>\n",
       "      <td>88677528</td>\n",
       "      <td>800543</td>\n",
       "      <td>234.137391</td>\n",
       "      <td>-35.479306</td>\n",
       "      <td>51039.965572</td>\n",
       "      <td>22.233781</td>\n",
       "      <td>5.037996</td>\n",
       "    </tr>\n",
       "    <tr>\n",
       "      <th>8517245</th>\n",
       "      <td>88677528</td>\n",
       "      <td>904193</td>\n",
       "      <td>235.041075</td>\n",
       "      <td>-36.390591</td>\n",
       "      <td>51039.965572</td>\n",
       "      <td>21.990091</td>\n",
       "      <td>6.305706</td>\n",
       "    </tr>\n",
       "    <tr>\n",
       "      <th>8517246</th>\n",
       "      <td>88677528</td>\n",
       "      <td>953295</td>\n",
       "      <td>237.036797</td>\n",
       "      <td>-34.753982</td>\n",
       "      <td>51039.965572</td>\n",
       "      <td>21.846716</td>\n",
       "      <td>7.195876</td>\n",
       "    </tr>\n",
       "    <tr>\n",
       "      <th>8517247</th>\n",
       "      <td>88677528</td>\n",
       "      <td>1056694</td>\n",
       "      <td>233.215628</td>\n",
       "      <td>-35.647361</td>\n",
       "      <td>51039.965572</td>\n",
       "      <td>21.600804</td>\n",
       "      <td>9.025027</td>\n",
       "    </tr>\n",
       "    <tr>\n",
       "      <th>8517248</th>\n",
       "      <td>88677528</td>\n",
       "      <td>1154064</td>\n",
       "      <td>237.386147</td>\n",
       "      <td>-37.151918</td>\n",
       "      <td>51039.965572</td>\n",
       "      <td>22.163090</td>\n",
       "      <td>5.376928</td>\n",
       "    </tr>\n",
       "    <tr>\n",
       "      <th>8517249</th>\n",
       "      <td>88677528</td>\n",
       "      <td>1171295</td>\n",
       "      <td>233.704868</td>\n",
       "      <td>-36.035951</td>\n",
       "      <td>51039.965572</td>\n",
       "      <td>21.579239</td>\n",
       "      <td>9.206069</td>\n",
       "    </tr>\n",
       "    <tr>\n",
       "      <th>8517250</th>\n",
       "      <td>88677528</td>\n",
       "      <td>1045064</td>\n",
       "      <td>235.428743</td>\n",
       "      <td>-36.182322</td>\n",
       "      <td>51039.965572</td>\n",
       "      <td>20.789231</td>\n",
       "      <td>19.058016</td>\n",
       "    </tr>\n",
       "    <tr>\n",
       "      <th>8517251</th>\n",
       "      <td>88677528</td>\n",
       "      <td>1194631</td>\n",
       "      <td>233.085529</td>\n",
       "      <td>-36.304633</td>\n",
       "      <td>51039.965572</td>\n",
       "      <td>22.186157</td>\n",
       "      <td>5.263895</td>\n",
       "    </tr>\n",
       "    <tr>\n",
       "      <th>8517252</th>\n",
       "      <td>88677528</td>\n",
       "      <td>1200808</td>\n",
       "      <td>234.103441</td>\n",
       "      <td>-34.858415</td>\n",
       "      <td>51039.965572</td>\n",
       "      <td>21.086184</td>\n",
       "      <td>14.497607</td>\n",
       "    </tr>\n",
       "    <tr>\n",
       "      <th>...</th>\n",
       "      <td>...</td>\n",
       "      <td>...</td>\n",
       "      <td>...</td>\n",
       "      <td>...</td>\n",
       "      <td>...</td>\n",
       "      <td>...</td>\n",
       "      <td>...</td>\n",
       "    </tr>\n",
       "    <tr>\n",
       "      <th>32885647</th>\n",
       "      <td>88719122</td>\n",
       "      <td>7166671</td>\n",
       "      <td>32.914363</td>\n",
       "      <td>-53.934957</td>\n",
       "      <td>51055.401759</td>\n",
       "      <td>22.037679</td>\n",
       "      <td>28.653540</td>\n",
       "    </tr>\n",
       "    <tr>\n",
       "      <th>32885648</th>\n",
       "      <td>88719124</td>\n",
       "      <td>7661789</td>\n",
       "      <td>34.971733</td>\n",
       "      <td>-51.690740</td>\n",
       "      <td>51055.402207</td>\n",
       "      <td>22.788570</td>\n",
       "      <td>14.650828</td>\n",
       "    </tr>\n",
       "    <tr>\n",
       "      <th>32885649</th>\n",
       "      <td>88719124</td>\n",
       "      <td>658204</td>\n",
       "      <td>35.032497</td>\n",
       "      <td>-50.767854</td>\n",
       "      <td>51055.402207</td>\n",
       "      <td>23.398453</td>\n",
       "      <td>8.354279</td>\n",
       "    </tr>\n",
       "    <tr>\n",
       "      <th>32885650</th>\n",
       "      <td>88719124</td>\n",
       "      <td>4265151</td>\n",
       "      <td>37.875537</td>\n",
       "      <td>-49.554459</td>\n",
       "      <td>51055.402207</td>\n",
       "      <td>23.500367</td>\n",
       "      <td>7.605769</td>\n",
       "    </tr>\n",
       "    <tr>\n",
       "      <th>32885651</th>\n",
       "      <td>88719124</td>\n",
       "      <td>21170</td>\n",
       "      <td>38.463864</td>\n",
       "      <td>-50.213274</td>\n",
       "      <td>51055.402207</td>\n",
       "      <td>19.603921</td>\n",
       "      <td>275.246499</td>\n",
       "    </tr>\n",
       "    <tr>\n",
       "      <th>32885652</th>\n",
       "      <td>88719126</td>\n",
       "      <td>4265151</td>\n",
       "      <td>37.875575</td>\n",
       "      <td>-49.554519</td>\n",
       "      <td>51055.402653</td>\n",
       "      <td>23.500366</td>\n",
       "      <td>7.742901</td>\n",
       "    </tr>\n",
       "    <tr>\n",
       "      <th>32885653</th>\n",
       "      <td>88719126</td>\n",
       "      <td>257513</td>\n",
       "      <td>36.425291</td>\n",
       "      <td>-47.618974</td>\n",
       "      <td>51055.402653</td>\n",
       "      <td>23.485200</td>\n",
       "      <td>7.851815</td>\n",
       "    </tr>\n",
       "    <tr>\n",
       "      <th>32885654</th>\n",
       "      <td>88719126</td>\n",
       "      <td>9599279</td>\n",
       "      <td>36.595479</td>\n",
       "      <td>-48.610459</td>\n",
       "      <td>51055.402653</td>\n",
       "      <td>23.192543</td>\n",
       "      <td>10.280941</td>\n",
       "    </tr>\n",
       "    <tr>\n",
       "      <th>32885655</th>\n",
       "      <td>88719126</td>\n",
       "      <td>7607130</td>\n",
       "      <td>36.359575</td>\n",
       "      <td>-48.433436</td>\n",
       "      <td>51055.402653</td>\n",
       "      <td>22.623241</td>\n",
       "      <td>17.368145</td>\n",
       "    </tr>\n",
       "    <tr>\n",
       "      <th>32885656</th>\n",
       "      <td>88719129</td>\n",
       "      <td>2931</td>\n",
       "      <td>45.982574</td>\n",
       "      <td>-48.501975</td>\n",
       "      <td>51055.404883</td>\n",
       "      <td>19.541937</td>\n",
       "      <td>55.518173</td>\n",
       "    </tr>\n",
       "    <tr>\n",
       "      <th>32885657</th>\n",
       "      <td>88719129</td>\n",
       "      <td>6787</td>\n",
       "      <td>46.134789</td>\n",
       "      <td>-47.120192</td>\n",
       "      <td>51055.404883</td>\n",
       "      <td>21.636820</td>\n",
       "      <td>8.062732</td>\n",
       "    </tr>\n",
       "    <tr>\n",
       "      <th>32885658</th>\n",
       "      <td>88719131</td>\n",
       "      <td>12456</td>\n",
       "      <td>47.619293</td>\n",
       "      <td>-54.927526</td>\n",
       "      <td>51055.405778</td>\n",
       "      <td>21.395995</td>\n",
       "      <td>9.829512</td>\n",
       "    </tr>\n",
       "    <tr>\n",
       "      <th>32885659</th>\n",
       "      <td>88719133</td>\n",
       "      <td>12456</td>\n",
       "      <td>47.618861</td>\n",
       "      <td>-54.927525</td>\n",
       "      <td>51055.406226</td>\n",
       "      <td>21.395992</td>\n",
       "      <td>9.686643</td>\n",
       "    </tr>\n",
       "    <tr>\n",
       "      <th>32885660</th>\n",
       "      <td>88719137</td>\n",
       "      <td>21170</td>\n",
       "      <td>38.411267</td>\n",
       "      <td>-50.217194</td>\n",
       "      <td>51055.408016</td>\n",
       "      <td>19.658247</td>\n",
       "      <td>49.280080</td>\n",
       "    </tr>\n",
       "    <tr>\n",
       "      <th>32885661</th>\n",
       "      <td>88719137</td>\n",
       "      <td>13436</td>\n",
       "      <td>41.651683</td>\n",
       "      <td>-49.237221</td>\n",
       "      <td>51055.408016</td>\n",
       "      <td>21.149403</td>\n",
       "      <td>12.479837</td>\n",
       "    </tr>\n",
       "    <tr>\n",
       "      <th>32885662</th>\n",
       "      <td>88719141</td>\n",
       "      <td>107487</td>\n",
       "      <td>38.761047</td>\n",
       "      <td>-42.563649</td>\n",
       "      <td>51055.408913</td>\n",
       "      <td>20.930162</td>\n",
       "      <td>16.526667</td>\n",
       "    </tr>\n",
       "    <tr>\n",
       "      <th>32885663</th>\n",
       "      <td>88719146</td>\n",
       "      <td>6787</td>\n",
       "      <td>46.129900</td>\n",
       "      <td>-47.123015</td>\n",
       "      <td>51055.410714</td>\n",
       "      <td>21.636797</td>\n",
       "      <td>8.666647</td>\n",
       "    </tr>\n",
       "    <tr>\n",
       "      <th>32885664</th>\n",
       "      <td>88719147</td>\n",
       "      <td>2931</td>\n",
       "      <td>45.976082</td>\n",
       "      <td>-48.503230</td>\n",
       "      <td>51055.411161</td>\n",
       "      <td>19.541564</td>\n",
       "      <td>59.121348</td>\n",
       "    </tr>\n",
       "    <tr>\n",
       "      <th>32885665</th>\n",
       "      <td>88719149</td>\n",
       "      <td>12456</td>\n",
       "      <td>47.613244</td>\n",
       "      <td>-54.927508</td>\n",
       "      <td>51055.412057</td>\n",
       "      <td>21.395948</td>\n",
       "      <td>10.451794</td>\n",
       "    </tr>\n",
       "    <tr>\n",
       "      <th>32885666</th>\n",
       "      <td>88719155</td>\n",
       "      <td>26542</td>\n",
       "      <td>53.814130</td>\n",
       "      <td>-44.875369</td>\n",
       "      <td>51055.413850</td>\n",
       "      <td>22.064256</td>\n",
       "      <td>5.908914</td>\n",
       "    </tr>\n",
       "    <tr>\n",
       "      <th>32885667</th>\n",
       "      <td>88719156</td>\n",
       "      <td>31442</td>\n",
       "      <td>53.340133</td>\n",
       "      <td>-40.675746</td>\n",
       "      <td>51055.414301</td>\n",
       "      <td>21.257350</td>\n",
       "      <td>12.510362</td>\n",
       "    </tr>\n",
       "    <tr>\n",
       "      <th>32885668</th>\n",
       "      <td>88719158</td>\n",
       "      <td>31442</td>\n",
       "      <td>53.338686</td>\n",
       "      <td>-40.675745</td>\n",
       "      <td>51055.414750</td>\n",
       "      <td>21.257310</td>\n",
       "      <td>12.592912</td>\n",
       "    </tr>\n",
       "    <tr>\n",
       "      <th>32885669</th>\n",
       "      <td>88719159</td>\n",
       "      <td>31442</td>\n",
       "      <td>53.337227</td>\n",
       "      <td>-40.675743</td>\n",
       "      <td>51055.415203</td>\n",
       "      <td>21.257269</td>\n",
       "      <td>12.519373</td>\n",
       "    </tr>\n",
       "    <tr>\n",
       "      <th>32885670</th>\n",
       "      <td>88719160</td>\n",
       "      <td>7179</td>\n",
       "      <td>54.579840</td>\n",
       "      <td>-44.381972</td>\n",
       "      <td>51055.415651</td>\n",
       "      <td>20.537226</td>\n",
       "      <td>24.114586</td>\n",
       "    </tr>\n",
       "    <tr>\n",
       "      <th>32885671</th>\n",
       "      <td>88719160</td>\n",
       "      <td>26542</td>\n",
       "      <td>53.817405</td>\n",
       "      <td>-44.875546</td>\n",
       "      <td>51055.415651</td>\n",
       "      <td>22.064209</td>\n",
       "      <td>5.908623</td>\n",
       "    </tr>\n",
       "    <tr>\n",
       "      <th>32885672</th>\n",
       "      <td>88719168</td>\n",
       "      <td>2931</td>\n",
       "      <td>45.968536</td>\n",
       "      <td>-48.504681</td>\n",
       "      <td>51055.418457</td>\n",
       "      <td>19.541131</td>\n",
       "      <td>57.575490</td>\n",
       "    </tr>\n",
       "    <tr>\n",
       "      <th>32885673</th>\n",
       "      <td>88719168</td>\n",
       "      <td>6787</td>\n",
       "      <td>46.123409</td>\n",
       "      <td>-47.126758</td>\n",
       "      <td>51055.418457</td>\n",
       "      <td>21.636768</td>\n",
       "      <td>8.355699</td>\n",
       "    </tr>\n",
       "    <tr>\n",
       "      <th>32885674</th>\n",
       "      <td>88719171</td>\n",
       "      <td>12456</td>\n",
       "      <td>47.606218</td>\n",
       "      <td>-54.927479</td>\n",
       "      <td>51055.419351</td>\n",
       "      <td>21.395893</td>\n",
       "      <td>10.199356</td>\n",
       "    </tr>\n",
       "    <tr>\n",
       "      <th>32885675</th>\n",
       "      <td>88719172</td>\n",
       "      <td>12456</td>\n",
       "      <td>47.605787</td>\n",
       "      <td>-54.927477</td>\n",
       "      <td>51055.419799</td>\n",
       "      <td>21.395890</td>\n",
       "      <td>10.057594</td>\n",
       "    </tr>\n",
       "    <tr>\n",
       "      <th>32885676</th>\n",
       "      <td>88719174</td>\n",
       "      <td>78362</td>\n",
       "      <td>38.757102</td>\n",
       "      <td>-61.708115</td>\n",
       "      <td>51055.420694</td>\n",
       "      <td>20.825718</td>\n",
       "      <td>16.422640</td>\n",
       "    </tr>\n",
       "  </tbody>\n",
       "</table>\n",
       "<p>24368454 rows × 7 columns</p>\n",
       "</div>"
      ],
      "text/plain": [
       "          obshistid    ssmid          ra        dec           mjd        mag  \\\n",
       "diaid                                                                          \n",
       "8517223    88677528    49231  234.712038 -36.373855  51039.965572  21.678118   \n",
       "8517224    88677528   443381  236.046013 -36.865381  51039.965572  20.652854   \n",
       "8517225    88677528   430544  234.885339 -37.522868  51039.965572  20.502174   \n",
       "8517226    88677528   455586  236.394079 -35.924614  51039.965572  21.880187   \n",
       "8517227    88677528   478231  236.330113 -36.769353  51039.965572  21.957860   \n",
       "8517228    88677528   490450  236.110757 -34.010774  51039.965572  21.773899   \n",
       "8517229    88677528   424429  235.824192 -34.419941  51039.965572  21.000429   \n",
       "8517230    88677528   547976  235.569189 -34.622987  51039.965572  21.684067   \n",
       "8517231    88677528   478185  237.655788 -35.852953  51039.965572  22.021924   \n",
       "8517232    88677528   410349  233.738416 -35.106639  51039.965572  20.767132   \n",
       "8517233    88677528   620104  234.101991 -35.449591  51039.965572  21.786599   \n",
       "8517234    88677528   677497  234.586392 -34.668492  51039.965572  21.722865   \n",
       "8517235    88677528   637989  233.262679 -35.839552  51039.965572  21.825988   \n",
       "8517236    88677528   678204  235.134545 -35.115319  51039.965572  21.221018   \n",
       "8517237    88677528   540706  235.281485 -34.673314  51039.965572  21.784987   \n",
       "8517238    88677528   664814  232.812695 -35.462741  51039.965572  21.778042   \n",
       "8517239    88677528   670422  235.705235 -36.322251  51039.965572  21.476438   \n",
       "8517240    88677528   675436  235.241818 -34.763683  51039.965572  21.531261   \n",
       "8517241    88677528   834868  236.593531 -37.492363  51039.965572  20.613555   \n",
       "8517242    88677528   854379  234.493202 -34.538317  51039.965572  21.944599   \n",
       "8517243    88677528   888503  235.627606 -37.797320  51039.965572  21.584421   \n",
       "8517244    88677528   800543  234.137391 -35.479306  51039.965572  22.233781   \n",
       "8517245    88677528   904193  235.041075 -36.390591  51039.965572  21.990091   \n",
       "8517246    88677528   953295  237.036797 -34.753982  51039.965572  21.846716   \n",
       "8517247    88677528  1056694  233.215628 -35.647361  51039.965572  21.600804   \n",
       "8517248    88677528  1154064  237.386147 -37.151918  51039.965572  22.163090   \n",
       "8517249    88677528  1171295  233.704868 -36.035951  51039.965572  21.579239   \n",
       "8517250    88677528  1045064  235.428743 -36.182322  51039.965572  20.789231   \n",
       "8517251    88677528  1194631  233.085529 -36.304633  51039.965572  22.186157   \n",
       "8517252    88677528  1200808  234.103441 -34.858415  51039.965572  21.086184   \n",
       "...             ...      ...         ...        ...           ...        ...   \n",
       "32885647   88719122  7166671   32.914363 -53.934957  51055.401759  22.037679   \n",
       "32885648   88719124  7661789   34.971733 -51.690740  51055.402207  22.788570   \n",
       "32885649   88719124   658204   35.032497 -50.767854  51055.402207  23.398453   \n",
       "32885650   88719124  4265151   37.875537 -49.554459  51055.402207  23.500367   \n",
       "32885651   88719124    21170   38.463864 -50.213274  51055.402207  19.603921   \n",
       "32885652   88719126  4265151   37.875575 -49.554519  51055.402653  23.500366   \n",
       "32885653   88719126   257513   36.425291 -47.618974  51055.402653  23.485200   \n",
       "32885654   88719126  9599279   36.595479 -48.610459  51055.402653  23.192543   \n",
       "32885655   88719126  7607130   36.359575 -48.433436  51055.402653  22.623241   \n",
       "32885656   88719129     2931   45.982574 -48.501975  51055.404883  19.541937   \n",
       "32885657   88719129     6787   46.134789 -47.120192  51055.404883  21.636820   \n",
       "32885658   88719131    12456   47.619293 -54.927526  51055.405778  21.395995   \n",
       "32885659   88719133    12456   47.618861 -54.927525  51055.406226  21.395992   \n",
       "32885660   88719137    21170   38.411267 -50.217194  51055.408016  19.658247   \n",
       "32885661   88719137    13436   41.651683 -49.237221  51055.408016  21.149403   \n",
       "32885662   88719141   107487   38.761047 -42.563649  51055.408913  20.930162   \n",
       "32885663   88719146     6787   46.129900 -47.123015  51055.410714  21.636797   \n",
       "32885664   88719147     2931   45.976082 -48.503230  51055.411161  19.541564   \n",
       "32885665   88719149    12456   47.613244 -54.927508  51055.412057  21.395948   \n",
       "32885666   88719155    26542   53.814130 -44.875369  51055.413850  22.064256   \n",
       "32885667   88719156    31442   53.340133 -40.675746  51055.414301  21.257350   \n",
       "32885668   88719158    31442   53.338686 -40.675745  51055.414750  21.257310   \n",
       "32885669   88719159    31442   53.337227 -40.675743  51055.415203  21.257269   \n",
       "32885670   88719160     7179   54.579840 -44.381972  51055.415651  20.537226   \n",
       "32885671   88719160    26542   53.817405 -44.875546  51055.415651  22.064209   \n",
       "32885672   88719168     2931   45.968536 -48.504681  51055.418457  19.541131   \n",
       "32885673   88719168     6787   46.123409 -47.126758  51055.418457  21.636768   \n",
       "32885674   88719171    12456   47.606218 -54.927479  51055.419351  21.395893   \n",
       "32885675   88719172    12456   47.605787 -54.927477  51055.419799  21.395890   \n",
       "32885676   88719174    78362   38.757102 -61.708115  51055.420694  20.825718   \n",
       "\n",
       "                 snr  \n",
       "diaid                 \n",
       "8517223     8.404711  \n",
       "8517224    21.608696  \n",
       "8517225    24.825630  \n",
       "8517226     6.977428  \n",
       "8517227     6.495700  \n",
       "8517228     7.695035  \n",
       "8517229    15.689118  \n",
       "8517230     8.358790  \n",
       "8517231     6.123511  \n",
       "8517232    19.449900  \n",
       "8517233     7.605543  \n",
       "8517234     8.065366  \n",
       "8517235     7.334572  \n",
       "8517236    12.804510  \n",
       "8517237     7.616844  \n",
       "8517238     7.665725  \n",
       "8517239    10.120332  \n",
       "8517240     9.622004  \n",
       "8517241    22.405154  \n",
       "8517242     6.575525  \n",
       "8517243     9.162241  \n",
       "8517244     5.037996  \n",
       "8517245     6.305706  \n",
       "8517246     7.195876  \n",
       "8517247     9.025027  \n",
       "8517248     5.376928  \n",
       "8517249     9.206069  \n",
       "8517250    19.058016  \n",
       "8517251     5.263895  \n",
       "8517252    14.497607  \n",
       "...              ...  \n",
       "32885647   28.653540  \n",
       "32885648   14.650828  \n",
       "32885649    8.354279  \n",
       "32885650    7.605769  \n",
       "32885651  275.246499  \n",
       "32885652    7.742901  \n",
       "32885653    7.851815  \n",
       "32885654   10.280941  \n",
       "32885655   17.368145  \n",
       "32885656   55.518173  \n",
       "32885657    8.062732  \n",
       "32885658    9.829512  \n",
       "32885659    9.686643  \n",
       "32885660   49.280080  \n",
       "32885661   12.479837  \n",
       "32885662   16.526667  \n",
       "32885663    8.666647  \n",
       "32885664   59.121348  \n",
       "32885665   10.451794  \n",
       "32885666    5.908914  \n",
       "32885667   12.510362  \n",
       "32885668   12.592912  \n",
       "32885669   12.519373  \n",
       "32885670   24.114586  \n",
       "32885671    5.908623  \n",
       "32885672   57.575490  \n",
       "32885673    8.355699  \n",
       "32885674   10.199356  \n",
       "32885675   10.057594  \n",
       "32885676   16.422640  \n",
       "\n",
       "[24368454 rows x 7 columns]"
      ]
     },
     "execution_count": 3,
     "metadata": {},
     "output_type": "execute_result"
    }
   ],
   "source": [
    "df"
   ]
  },
  {
   "cell_type": "code",
   "execution_count": null,
   "metadata": {
    "collapsed": true
   },
   "outputs": [],
   "source": []
  }
 ],
 "metadata": {
  "kernelspec": {
   "display_name": "Python 2",
   "language": "python",
   "name": "python2"
  },
  "language_info": {
   "codemirror_mode": {
    "name": "ipython",
    "version": 2
   },
   "file_extension": ".py",
   "mimetype": "text/x-python",
   "name": "python",
   "nbconvert_exporter": "python",
   "pygments_lexer": "ipython2",
   "version": "2.7.11"
  }
 },
 "nbformat": 4,
 "nbformat_minor": 0
}
