{
 "cells": [
  {
   "cell_type": "code",
   "execution_count": 1,
   "metadata": {
    "collapsed": true
   },
   "outputs": [],
   "source": [
    "import MopsObjects"
   ]
  },
  {
   "cell_type": "code",
   "execution_count": 2,
   "metadata": {
    "collapsed": false
   },
   "outputs": [
    {
     "data": {
      "text/plain": [
       "['diasource', 'tracklet', 'track', 'sso']"
      ]
     },
     "execution_count": 2,
     "metadata": {},
     "output_type": "execute_result"
    }
   ],
   "source": [
    "MopsObjects.__all__"
   ]
  },
  {
   "cell_type": "code",
   "execution_count": 3,
   "metadata": {
    "collapsed": true
   },
   "outputs": [],
   "source": [
    "from lsst.sims.maf.metrics import BaseMetric"
   ]
  },
  {
   "cell_type": "code",
   "execution_count": 4,
   "metadata": {
    "collapsed": false
   },
   "outputs": [
    {
     "data": {
      "text/plain": [
       "lsst.sims.maf.metrics.baseMetric.BaseMetric"
      ]
     },
     "execution_count": 4,
     "metadata": {},
     "output_type": "execute_result"
    }
   ],
   "source": [
    "BaseMetric"
   ]
  },
  {
   "cell_type": "code",
   "execution_count": 5,
   "metadata": {
    "collapsed": true
   },
   "outputs": [],
   "source": [
    "from MopsTracker import MopsTracker"
   ]
  },
  {
   "cell_type": "code",
   "execution_count": 7,
   "metadata": {
    "collapsed": false
   },
   "outputs": [
    {
     "name": "stdout",
     "output_type": "stream",
     "text": [
      "------- MOPS Tracker --------\n",
      "Current run status:\n",
      "\n",
      "\tfindTracklets:                     False\n",
      "\tidsToIndices.py:                   False\n",
      "\tcollapseTracklets:                 False\n",
      "\tpurifyTracklets:                   False\n",
      "\tremoveSubsets (tracklets):         False\n",
      "\tindicesToIds.py:                   False\n",
      "\tmakeLinkTrackletsInputByNight.py:  False\n",
      "\tlinkTracklets:                     False\n",
      "\tremoveSubsets (tracks):            False\n",
      "\n"
     ]
    }
   ],
   "source": [
    "new = MopsTracker('23')"
   ]
  },
  {
   "cell_type": "code",
   "execution_count": 8,
   "metadata": {
    "collapsed": false
   },
   "outputs": [
    {
     "data": {
      "text/plain": [
       "{'_collapsedTracklets': None,\n",
       " '_collapsedTrackletsById': None,\n",
       " '_collapsedTrackletsByIdDir': None,\n",
       " '_collapsedTrackletsDir': None,\n",
       " '_dets': None,\n",
       " '_diasources': None,\n",
       " '_diasourcesDir': None,\n",
       " '_finalTracklets': None,\n",
       " '_finalTrackletsById': None,\n",
       " '_finalTrackletsByIdDir': None,\n",
       " '_finalTrackletsDir': None,\n",
       " '_finalTracks': None,\n",
       " '_finalTracksDir': None,\n",
       " '_ids': None,\n",
       " '_purifiedTracklets': None,\n",
       " '_purifiedTrackletsById': None,\n",
       " '_purifiedTrackletsByIdDir': None,\n",
       " '_purifiedTrackletsDir': None,\n",
       " '_ranCollapseTracklets': False,\n",
       " '_ranFindTracklets': False,\n",
       " '_ranIdsToIndices': False,\n",
       " '_ranIndicesToIds': False,\n",
       " '_ranLinkTracklets': False,\n",
       " '_ranMakeLinkTrackletsInputByNight': False,\n",
       " '_ranPurifyTracklets': False,\n",
       " '_ranRemoveSubsetTracklets': False,\n",
       " '_ranRemoveSubsetTracks': False,\n",
       " '_runDir': '23',\n",
       " '_tracklets': None,\n",
       " '_trackletsByIndex': None,\n",
       " '_trackletsByIndexDir': None,\n",
       " '_trackletsByNightDir': None,\n",
       " '_trackletsDir': None,\n",
       " '_tracks': None,\n",
       " '_tracksDir': None}"
      ]
     },
     "execution_count": 8,
     "metadata": {},
     "output_type": "execute_result"
    }
   ],
   "source": [
    "new.__dict__"
   ]
  },
  {
   "cell_type": "code",
   "execution_count": 1,
   "metadata": {
    "collapsed": false
   },
   "outputs": [],
   "source": [
    "# Directories\n",
    "\n",
    "import os\n",
    "\n",
    "TRACKLETS_DIR = \"tracklets/\" \n",
    "COLLAPSED_TRACKLETS_DIR = \"trackletsCollapsed/\"\n",
    "PURIFIED_TRACKLETS_DIR = \"trackletsPurified/\" \n",
    "FINAL_TRACKLETS_DIR = \"trackletsFinal/\"\n",
    "TRACKLETS_BY_NIGHT_DIR = \"trackletsByNight/\"\n",
    "TRACKS_DIR = \"tracks/\"\n",
    "FINAL_TRACKS_DIR = \"tracksFinal/\"\n",
    "\n",
    "VERBOSE = True\n",
    "\n",
    "def directoryBuilder(runDir, collapse=True, purify=True, removeSubsetTracklets=True, removeSubsetTracks=True, verbose=VERBOSE):\n",
    "    \"\"\"\n",
    "    Builds the directory structure for MOPS output files.\n",
    "\n",
    "    Parameters:\n",
    "    ----------------------\n",
    "    parameter: (dtype) [default (if optional)], information\n",
    "\n",
    "    runDir: (string), name of the top folder\n",
    "    collapse: (boolean) [True], build collapse directory?\n",
    "    purify: (boolean) [True], build purify directory?\n",
    "    removeSubsetTracklets: (boolean) [True], build final tracklets directory?\n",
    "    removeSubsetTracks: (boolean) [True], build final tracks directory?\n",
    "    ----------------------\n",
    "    \"\"\"\n",
    "\n",
    "    try:\n",
    "        os.mkdir(runDir)\n",
    "    except:\n",
    "        raise NameError(\"Directory exists! Cannot continue!\")\n",
    "        \n",
    "    dirsOut = {}\n",
    "\n",
    "    dirsOut[\"tracketsDir\"] = TRACKLETS_DIR\n",
    "    dirsOut[\"tracksDir\"] = TRACKS_DIR\n",
    "    \n",
    "    if collapse:\n",
    "        dirsOut[\"collapsedDir\"] = COLLAPSED_TRACKLETS_DIR\n",
    "\n",
    "    if purify:\n",
    "        dirsOut[\"purifiedDir\"] = PURIFIED_TRACKLETS_DIR\n",
    "        \n",
    "    if removeSubsetTracklets:\n",
    "        dirsOut[\"finalTrackletsDir\"] = FINAL_TRACKLETS_DIR\n",
    "        \n",
    "    if removeSubsetTracks:\n",
    "        dirsOut[\"finalTracksDir\"] = FINAL_TRACKS_DIR\n",
    "        \n",
    "    for d in dirsOut:\n",
    "        newDir = os.path.join(runDir, dirsOut[d])\n",
    "        dirsOut[d] = newDir\n",
    "            \n",
    "    return dirsOut"
   ]
  },
  {
   "cell_type": "code",
   "execution_count": 4,
   "metadata": {
    "collapsed": false
   },
   "outputs": [],
   "source": [
    "test = directoryBuilder(\"run3\", collapse=False)"
   ]
  },
  {
   "cell_type": "code",
   "execution_count": 3,
   "metadata": {
    "collapsed": true
   },
   "outputs": [],
   "source": [
    "! rm -rf run3"
   ]
  },
  {
   "cell_type": "code",
   "execution_count": 5,
   "metadata": {
    "collapsed": false
   },
   "outputs": [
    {
     "data": {
      "text/plain": [
       "{'finalTrackletsDir': 'run3/trackletsFinal/',\n",
       " 'finalTracksDir': 'run3/tracksFinal/',\n",
       " 'purifiedDir': 'run3/trackletsPurified/',\n",
       " 'tracketsDir': 'run3/tracklets/',\n",
       " 'tracksDir': 'run3/tracks/'}"
      ]
     },
     "execution_count": 5,
     "metadata": {},
     "output_type": "execute_result"
    }
   ],
   "source": [
    "test"
   ]
  },
  {
   "cell_type": "code",
   "execution_count": null,
   "metadata": {
    "collapsed": true
   },
   "outputs": [],
   "source": []
  }
 ],
 "metadata": {
  "kernelspec": {
   "display_name": "Python 2",
   "language": "python",
   "name": "python2"
  },
  "language_info": {
   "codemirror_mode": {
    "name": "ipython",
    "version": 2
   },
   "file_extension": ".py",
   "mimetype": "text/x-python",
   "name": "python",
   "nbconvert_exporter": "python",
   "pygments_lexer": "ipython2",
   "version": "2.7.11"
  }
 },
 "nbformat": 4,
 "nbformat_minor": 0
}
