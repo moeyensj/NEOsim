{
 "cells": [
  {
   "cell_type": "markdown",
   "metadata": {},
   "source": [
    "## MOPs Installation, Testing and Software Tutorial\n"
   ]
  },
  {
   "cell_type": "markdown",
   "metadata": {},
   "source": [
    "If you wish to use this notebook to install MOPS, add the location you wish to install MOPs in:"
   ]
  },
  {
   "cell_type": "code",
   "execution_count": 9,
   "metadata": {
    "collapsed": true
   },
   "outputs": [],
   "source": [
    "MOPS_INSTALL_DIRECTORY = \"\""
   ]
  },
  {
   "cell_type": "markdown",
   "metadata": {},
   "source": [
    "## Pre-requisite software:\n",
    "MOPs requires the lsst stack, specifically the following:\n",
    "    - boost\n",
    "    - gsl\n",
    "    - eigen\n",
    "    \n",
    "Before continuing with the installation insure that these are properly setup. The following command will allow you to check."
   ]
  },
  {
   "cell_type": "code",
   "execution_count": 13,
   "metadata": {
    "collapsed": false
   },
   "outputs": [
    {
     "name": "stdout",
     "output_type": "stream",
     "text": [
      "boost                 1.59.lsst5 \tcurrent b1828 setup\r\n",
      "eigen                 3.2.5      \tcurrent b1828 setup\r\n",
      "gsl                   1.16.lsst3 \tcurrent b1828 setup\r\n",
      "python                system     \tcurrent setup\r\n"
     ]
    }
   ],
   "source": [
    "! eups list -s"
   ]
  },
  {
   "cell_type": "markdown",
   "metadata": {},
   "source": [
    "### Clone mops_daymops\n",
    "https://github.com/lsst/mops_daymops"
   ]
  },
  {
   "cell_type": "code",
   "execution_count": 10,
   "metadata": {
    "collapsed": false
   },
   "outputs": [
    {
     "name": "stdout",
     "output_type": "stream",
     "text": [
      "Cloning into 'mops_daymops'...\n",
      "remote: Counting objects: 3672, done.\u001b[K\n",
      "remote: Total 3672 (delta 0), reused 0 (delta 0), pack-reused 3672\u001b[K\n",
      "Receiving objects: 100% (3672/3672), 24.59 MiB | 10.94 MiB/s, done.\n",
      "Resolving deltas: 100% (2350/2350), done.\n",
      "Checking connectivity... done.\n"
     ]
    }
   ],
   "source": [
    "! git clone https://github.com/lsst/mops_daymops.git {MOPS_INSTALL_DIRECTORY}"
   ]
  },
  {
   "cell_type": "markdown",
   "metadata": {},
   "source": [
    "Currently the latest updates to the mops_daymops repo "
   ]
  },
  {
   "cell_type": "code",
   "execution_count": null,
   "metadata": {
    "collapsed": true
   },
   "outputs": [],
   "source": []
  },
  {
   "cell_type": "markdown",
   "metadata": {},
   "source": [
    "### Slalib MOPs\n",
    "Once you have installed the lsst stack and setup the appropriate packages, you then need to make sure you have SLALIB. \n"
   ]
  },
  {
   "cell_type": "markdown",
   "metadata": {},
   "source": [
    "### PAL MOPs\n",
    "There has been significant effort into replacing SLALIB with PAL. This work is still on going, once complete installation procedures will be updated here"
   ]
  },
  {
   "cell_type": "markdown",
   "metadata": {},
   "source": [
    "Once you have install MOPs and declared it as a EUPS package, the fun can begin. "
   ]
  },
  {
   "cell_type": "markdown",
   "metadata": {},
   "source": [
    "### Testing Mops\n",
    "This repository contains a unittest script which runs MOPs on a small sample of data and compares the output to the expected results"
   ]
  },
  {
   "cell_type": "code",
   "execution_count": 1,
   "metadata": {
    "collapsed": false
   },
   "outputs": [
    {
     "name": "stdout",
     "output_type": "stream",
     "text": [
      "------- MOPS Tracker --------\n",
      "Current run status:\n",
      "\n",
      "\tfindTracklets:                     False\n",
      "\tidsToIndices.py:                   False\n",
      "\tcollapseTracklets:                 False\n",
      "\tpurifyTracklets:                   False\n",
      "\tremoveSubsets                      False\n",
      "\tindicesToIds.py:                   False\n",
      "\tmakeLinkTrackletsInputByNight.py:  False\n",
      "\tlinkTracklets:                     False\n",
      "\n",
      "------- MOPS Parameters --------\n",
      "Current Parameter Values:\n",
      "\n",
      "---- findTracklets ----\n",
      "\tMaximum velocity:                         0.5\n",
      "\tMinimum velocity:                         0.0\n",
      "---- collapseTracklets ----\n",
      "\tRight Ascension tolerance:                0.002\n",
      "\tDeclination tolerance:                    0.002\n",
      "\tAngular tolerance:                        5\n",
      "\tVelocity tolerance:                       0.05\n",
      "\tMethod:                                   greedy\n",
      "\tUse RMS filter:                           True\n",
      "\tMaximum RMS:                              0.001\n",
      "---- purifyTracklets ----\n",
      "\tMaximum RMS:                              0.001\n",
      "---- removeSubsets ----\n",
      "\tRemove subsets:                           False\n",
      "\tKeep only longest:                        False\n",
      "---- makeLinkTrackletsInput_byNight.py ----\n",
      "\tWindow size:                              15\n",
      "---- linkTracklets ----\n",
      "\t Detection error threshold:               0.0004\n",
      "\t Maximum right ascension acceleration:    0.02\n",
      "\t Maximum declination acceleration:        0.02\n",
      "\t Latest first endpoint:                   None\n",
      "\t Earliest last endpoint:                  None\n",
      "\t Minimum nights:                          3\n",
      "\t Minimum detections:                      6\n",
      "\t Output buffer size:                      1000\n",
      "\t Maximum leaf node size:                  None\n",
      "\n",
      "------- Run MOPS -------\n",
      "Saving parameters to unittest/testRun/parameters.yaml\n",
      "\n",
      "------- Run MOPS -------\n",
      "Running findTracklets...\n",
      "Completed running findTracklets.\n",
      "\n",
      "------- Run MOPS -------\n",
      "Running idsToIndices.py...\n",
      "Completed running idsToIndices.py.\n",
      "\n",
      "------- Run MOPS -------\n",
      "Running collapseTracklets...\n",
      "Completed running collapseTracklets.\n",
      "\n",
      "------- Run MOPS -------\n",
      "Running indicesToIds.py...\n",
      "Completed running indicesToIds.py.\n",
      "\n",
      "------- Run MOPS -------\n",
      "Running purifyTracklets...\n",
      "Completed running purifyTracklets.\n",
      "\n",
      "------- Run MOPS -------\n",
      "Running indicesToIds.py...\n",
      "Completed running indicesToIds.py.\n",
      "\n",
      "------- Run MOPS -------\n",
      "Running removeSubsets...\n",
      "Completed running removeSubsets.\n",
      "\n",
      "------- Run MOPS -------\n",
      "Running indicesToIds.py...\n",
      "Completed running indicesToIds.py.\n",
      "\n",
      "------- Run MOPS -------\n",
      "Running makeLinkTrackletsInput_byNight.py...\n",
      "Completed running makeLinkTrackletsInput_byNight.py.\n",
      "\n",
      "------- Run MOPS -------\n",
      "Running linkTracklets...\n",
      "Completed running linkTracklets.\n",
      "\n",
      "------- MOPS Tracker --------\n",
      "Current run status:\n",
      "\n",
      "\tfindTracklets:                     True\n",
      "\tidsToIndices.py:                   True\n",
      "\tcollapseTracklets:                 True\n",
      "\tpurifyTracklets:                   True\n",
      "\tremoveSubsets                      True\n",
      "\tindicesToIds.py:                   True\n",
      "\tmakeLinkTrackletsInputByNight.py:  True\n",
      "\tlinkTracklets:                     True\n",
      "\n",
      "------- Run MOPS -------\n",
      "Saving tracker to unittest/testRun/tracker.yaml\n",
      "\n",
      ".......E...\n",
      "======================================================================\n",
      "ERROR: test_makeLinkTrackletsInput_byNight (__main__.MopsTest)\n",
      "----------------------------------------------------------------------\n",
      "Traceback (most recent call last):\n",
      "  File \"MopsUnittest.py\", line 106, in test_makeLinkTrackletsInput_byNight\n",
      "    testTrackletsByNightDets = self.testTracker.trackletsByNightDets\n",
      "AttributeError: 'MopsTracker' object has no attribute 'trackletsByNightDets'\n",
      "\n",
      "----------------------------------------------------------------------\n",
      "Ran 11 tests in 3.740s\n",
      "\n",
      "FAILED (errors=1)\n"
     ]
    }
   ],
   "source": [
    "! python MopsUnittest.py"
   ]
  },
  {
   "cell_type": "markdown",
   "metadata": {},
   "source": [
    "## Running MOPs\n",
    "Running MOPs can be done in several ways. You can choose to run each MOPs function individually or you can use the runMops.py script provided. "
   ]
  },
  {
   "cell_type": "markdown",
   "metadata": {},
   "source": [
    "## Retrieving MOPs output\n",
    "\n",
    "As the runMops script runs it will keep track of all input files and output files used / generated by MOPS. "
   ]
  },
  {
   "cell_type": "code",
   "execution_count": null,
   "metadata": {
    "collapsed": true
   },
   "outputs": [],
   "source": [
    "nightly_dias_dir = \n",
    "output_dir = "
   ]
  },
  {
   "cell_type": "code",
   "execution_count": null,
   "metadata": {
    "collapsed": true
   },
   "outputs": [],
   "source": [
    "! python runMops.py {nightly_dias_dir} {output_dir}"
   ]
  },
  {
   "cell_type": "markdown",
   "metadata": {},
   "source": [
    "## Analyzing MOPs results"
   ]
  },
  {
   "cell_type": "code",
   "execution_count": 2,
   "metadata": {
    "collapsed": true
   },
   "outputs": [],
   "source": [
    "import MopsAnalysis"
   ]
  },
  {
   "cell_type": "code",
   "execution_count": null,
   "metadata": {
    "collapsed": true
   },
   "outputs": [],
   "source": []
  }
 ],
 "metadata": {
  "kernelspec": {
   "display_name": "Python 2",
   "language": "python",
   "name": "python2"
  },
  "language_info": {
   "codemirror_mode": {
    "name": "ipython",
    "version": 2
   },
   "file_extension": ".py",
   "mimetype": "text/x-python",
   "name": "python",
   "nbconvert_exporter": "python",
   "pygments_lexer": "ipython2",
   "version": "2.7.11"
  }
 },
 "nbformat": 4,
 "nbformat_minor": 0
}
