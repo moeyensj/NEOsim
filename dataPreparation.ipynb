{
 "cells": [
  {
   "cell_type": "code",
   "execution_count": 1,
   "metadata": {
    "collapsed": true
   },
   "outputs": [],
   "source": [
    "import sqlite3\n",
    "import pandas as pd\n",
    "import numpy as np\n",
    "import matplotlib.pyplot as plt\n",
    "\n",
    "% matplotlib inline"
   ]
  },
  {
   "cell_type": "code",
   "execution_count": 9,
   "metadata": {
    "collapsed": true
   },
   "outputs": [],
   "source": [
    "dataSet1 = 'fullSky_year5_withinMagLimits_noAstromErr.txt'\n",
    "dataSet2 = 'fullSky_year5_withinMagLimits_withAstromError.txt'"
   ]
  },
  {
   "cell_type": "markdown",
   "metadata": {},
   "source": [
    "### Running splitByNight.py"
   ]
  },
  {
   "cell_type": "code",
   "execution_count": 5,
   "metadata": {
    "collapsed": false
   },
   "outputs": [
    {
     "name": "stdout",
     "output_type": "stream",
     "text": [
      "mkdir: nightlyOutput_noErr/: File exists\n",
      "mkdir: obshitOutput_noErr/: File exists\n",
      "mkdir: nightlyOutput_withErr/: File exists\n",
      "mkdir: obshitOutput_withErr/: File exists\n"
     ]
    }
   ],
   "source": [
    "# make nightly and obshist directories for splitByNight.py\n",
    "! mkdir nightlyOutput_noErr/\n",
    "! mkdir obshitOutput_noErr/\n",
    "! mkdir nightlyOutput_withErr/\n",
    "! mkdir obshitOutput_withErr/"
   ]
  },
  {
   "cell_type": "code",
   "execution_count": 11,
   "metadata": {
    "collapsed": false
   },
   "outputs": [],
   "source": [
    "# run splitByNight.py on noErr dataset\n",
    "! python /Users/joachim/repos/mops/mops_daymops/bin/splitByNight.py fullSky_year5_withinMagLimits_noAstromErr.txt nightlyOutput_noErr/ obshitOutput_noErr/"
   ]
  },
  {
   "cell_type": "code",
   "execution_count": 15,
   "metadata": {
    "collapsed": false
   },
   "outputs": [],
   "source": [
    "# run splitByNight.py on withErr dataset\n",
    "! python /Users/joachim/repos/mops/mops_daymops/bin/splitByNight.py fullSky_year5_withinMagLimits_withAstromError.txt nightlyOutput_withErr/ obshitOutput_withErr/"
   ]
  },
  {
   "cell_type": "markdown",
   "metadata": {},
   "source": [
    "### Running findTracklets"
   ]
  },
  {
   "cell_type": "code",
   "execution_count": null,
   "metadata": {
    "collapsed": true
   },
   "outputs": [],
   "source": []
  }
 ],
 "metadata": {
  "kernelspec": {
   "display_name": "Python 2",
   "language": "python",
   "name": "python2"
  },
  "language_info": {
   "codemirror_mode": {
    "name": "ipython",
    "version": 2
   },
   "file_extension": ".py",
   "mimetype": "text/x-python",
   "name": "python",
   "nbconvert_exporter": "python",
   "pygments_lexer": "ipython2",
   "version": "2.7.10"
  }
 },
 "nbformat": 4,
 "nbformat_minor": 0
}
