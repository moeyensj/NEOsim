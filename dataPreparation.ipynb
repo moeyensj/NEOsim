{
 "cells": [
  {
   "cell_type": "code",
   "execution_count": 1,
   "metadata": {
    "collapsed": true
   },
   "outputs": [],
   "source": [
    "import sqlite3\n",
    "import pandas as pd\n",
    "import numpy as np\n",
    "import matplotlib.pyplot as plt\n",
    "import os\n",
    "\n",
    "% matplotlib inline"
   ]
  },
  {
   "cell_type": "code",
   "execution_count": 2,
   "metadata": {
    "collapsed": false
   },
   "outputs": [],
   "source": [
    "dataSet1 = 'fullSky_year5_withinMagLimits_noAstromErr.txt'\n",
    "dataSet2 = 'fullSky_year5_withinMagLimits_withAstromError.txt'\n",
    "\n",
    "nightly_noErr = 'nightlyOutput_noErr'\n",
    "obshit_noErr = 'obshitOutput_noErr'\n",
    "nightly_withErr = 'nightlyOutput_withErr'\n",
    "obshit_withErr = 'obshitOutput_withErr'\n",
    "tracklets_noErr = 'tracklets_noErr'\n",
    "tracklets_withErr = 'tracklets_withErr'\n",
    "\n",
    "dataSets = [dataSet1, dataSet2]\n",
    "dirs = [nightly_noErr, obshit_noErr, nightly_withErr, obshit_withErr, tracklets_noErr, tracklets_withErr]"
   ]
  },
  {
   "cell_type": "markdown",
   "metadata": {},
   "source": [
    "### Running splitByNight.py"
   ]
  },
  {
   "cell_type": "code",
   "execution_count": 3,
   "metadata": {
    "collapsed": false
   },
   "outputs": [],
   "source": [
    "# make nightly and obshist directories for splitByNight.py\n",
    "for d in dirs:\n",
    "    ! mkdir {d}"
   ]
  },
  {
   "cell_type": "code",
   "execution_count": 4,
   "metadata": {
    "collapsed": false
   },
   "outputs": [],
   "source": [
    "# run splitByNight.py on noErr dataset\n",
    "! python /Users/joachim/repos/mops/mops_daymops/bin/splitByNight.py {dataSet1} {nightly_noErr} {obshit_noErr}"
   ]
  },
  {
   "cell_type": "code",
   "execution_count": 5,
   "metadata": {
    "collapsed": false
   },
   "outputs": [],
   "source": [
    "# run splitByNight.py on withErr dataset\n",
    "! python /Users/joachim/repos/mops/mops_daymops/bin/splitByNight.py {dataSet2} {nightly_withErr} {obshit_withErr}"
   ]
  },
  {
   "cell_type": "markdown",
   "metadata": {},
   "source": [
    "### Running findTracklets"
   ]
  },
  {
   "cell_type": "code",
   "execution_count": 10,
   "metadata": {
    "collapsed": false
   },
   "outputs": [
    {
     "data": {
      "text/plain": [
       "['51029.dias',\n",
       " '51030.dias',\n",
       " '51031.dias',\n",
       " '51032.dias',\n",
       " '51033.dias',\n",
       " '51034.dias',\n",
       " '51035.dias',\n",
       " '51036.dias',\n",
       " '51038.dias',\n",
       " '51039.dias',\n",
       " '51040.dias',\n",
       " '51041.dias',\n",
       " '51042.dias',\n",
       " '51043.dias',\n",
       " '51044.dias',\n",
       " '51045.dias',\n",
       " '51046.dias',\n",
       " '51047.dias',\n",
       " '51048.dias',\n",
       " '51049.dias',\n",
       " '51050.dias',\n",
       " '51051.dias',\n",
       " '51052.dias',\n",
       " '51053.dias',\n",
       " '51054.dias',\n",
       " '51055.dias',\n",
       " '51056.dias',\n",
       " '51057.dias',\n",
       " '51058.dias',\n",
       " '51059.dias',\n",
       " '51060.dias',\n",
       " '51061.dias']"
      ]
     },
     "execution_count": 10,
     "metadata": {},
     "output_type": "execute_result"
    }
   ],
   "source": [
    "nightly_noErr_sources "
   ]
  },
  {
   "cell_type": "code",
   "execution_count": 14,
   "metadata": {
    "collapsed": false
   },
   "outputs": [
    {
     "name": "stdout",
     "output_type": "stream",
     "text": [
      "dyld: Library not loaded: @rpath/../opt/lsst/gsl/lib/libgsl.0.dylib\r\n",
      "  Referenced from: /Users/joachim/repos/mops/mops_daymops/bin/findTracklets\r\n",
      "  Reason: image not found\r\n"
     ]
    }
   ],
   "source": [
    "! findTracklets"
   ]
  },
  {
   "cell_type": "code",
   "execution_count": null,
   "metadata": {
    "collapsed": true
   },
   "outputs": [],
   "source": []
  }
 ],
 "metadata": {
  "kernelspec": {
   "display_name": "Python 2",
   "language": "python",
   "name": "python2"
  },
  "language_info": {
   "codemirror_mode": {
    "name": "ipython",
    "version": 2
   },
   "file_extension": ".py",
   "mimetype": "text/x-python",
   "name": "python",
   "nbconvert_exporter": "python",
   "pygments_lexer": "ipython2",
   "version": "2.7.10"
  }
 },
 "nbformat": 4,
 "nbformat_minor": 0
}
