{
 "cells": [
  {
   "cell_type": "code",
   "execution_count": 1,
   "metadata": {
    "collapsed": true
   },
   "outputs": [],
   "source": [
    "import sqlite3\n",
    "import pandas as pd\n",
    "import numpy as np\n",
    "import matplotlib.pyplot as plt\n",
    "import os\n",
    "\n",
    "% matplotlib inline"
   ]
  },
  {
   "cell_type": "code",
   "execution_count": 2,
   "metadata": {
    "collapsed": false
   },
   "outputs": [],
   "source": [
    "dataSet1 = 'fullSky_year5_withinMagLimits_noAstromErr.txt'\n",
    "dataSet2 = 'fullSky_year5_withinMagLimits_withAstromError.txt'\n",
    "\n",
    "nightly_noErr = 'nightlyOutput_noErr'\n",
    "obshit_noErr = 'obshitOutput_noErr'\n",
    "nightly_withErr = 'nightlyOutput_withErr'\n",
    "obshit_withErr = 'obshitOutput_withErr'\n",
    "tracklets_noErr = 'tracklets_noErr'\n",
    "tracklets_withErr = 'tracklets_withErr'\n",
    "\n",
    "dataSets = [dataSet1, dataSet2]\n",
    "dirs = [nightly_noErr, obshit_noErr, nightly_withErr, obshit_withErr, tracklets_noErr, tracklets_withErr]"
   ]
  },
  {
   "cell_type": "markdown",
   "metadata": {},
   "source": [
    "### Running splitByNight.py"
   ]
  },
  {
   "cell_type": "code",
   "execution_count": 3,
   "metadata": {
    "collapsed": false
   },
   "outputs": [],
   "source": [
    "# make nightly and obshist directories for splitByNight.py\n",
    "for d in dirs:\n",
    "    ! mkdir {d}"
   ]
  },
  {
   "cell_type": "code",
   "execution_count": 4,
   "metadata": {
    "collapsed": false
   },
   "outputs": [],
   "source": [
    "# run splitByNight.py on noErr dataset\n",
    "! python /Users/joachim/repos/mops/mops_daymops/bin/splitByNight.py {dataSet1} {nightly_noErr} {obshit_noErr}"
   ]
  },
  {
   "cell_type": "code",
   "execution_count": 5,
   "metadata": {
    "collapsed": false
   },
   "outputs": [],
   "source": [
    "# run splitByNight.py on withErr dataset\n",
    "! python /Users/joachim/repos/mops/mops_daymops/bin/splitByNight.py {dataSet2} {nightly_withErr} {obshit_withErr}"
   ]
  },
  {
   "cell_type": "markdown",
   "metadata": {},
   "source": [
    "### Running findTracklets"
   ]
  },
  {
   "cell_type": "code",
   "execution_count": 23,
   "metadata": {
    "collapsed": false
   },
   "outputs": [
    {
     "name": "stdout",
     "output_type": "stream",
     "text": [
      "dyld: Library not loaded: @rpath/../opt/lsst/gsl/lib/libgsl.0.dylib\r\n",
      "  Referenced from: /Users/joachim/repos/mops/mops_daymops/bin/findTracklets\r\n",
      "  Reason: image not found\r\n"
     ]
    }
   ],
   "source": [
    "! findTracklets"
   ]
  },
  {
   "cell_type": "code",
   "execution_count": 24,
   "metadata": {
    "collapsed": false
   },
   "outputs": [],
   "source": [
    "alias findTracklets findTracklets"
   ]
  },
  {
   "cell_type": "code",
   "execution_count": 25,
   "metadata": {
    "collapsed": false
   },
   "outputs": [
    {
     "name": "stdout",
     "output_type": "stream",
     "text": [
      "dyld: Library not loaded: @rpath/../opt/lsst/gsl/lib/libgsl.0.dylib\r\n",
      "  Referenced from: /Users/joachim/repos/mops/mops_daymops/bin/findTracklets\r\n",
      "  Reason: image not found\r\n"
     ]
    }
   ],
   "source": [
    "findTracklets"
   ]
  },
  {
   "cell_type": "code",
   "execution_count": 16,
   "metadata": {
    "collapsed": false
   },
   "outputs": [
    {
     "name": "stdout",
     "output_type": "stream",
     "text": [
      "dyld: Library not loaded: @rpath/../opt/lsst/gsl/lib/libgsl.0.dylib\n",
      "  Referenced from: /Users/joachim/repos/mops/mops_daymops/bin/findTracklets\n",
      "  Reason: image not found\n",
      "dyld: Library not loaded: @rpath/../opt/lsst/gsl/lib/libgsl.0.dylib\n",
      "  Referenced from: /Users/joachim/repos/mops/mops_daymops/bin/findTracklets\n",
      "  Reason: image not found\n",
      "dyld: Library not loaded: @rpath/../opt/lsst/gsl/lib/libgsl.0.dylib\n",
      "  Referenced from: /Users/joachim/repos/mops/mops_daymops/bin/findTracklets\n",
      "  Reason: image not found\n",
      "dyld: Library not loaded: @rpath/../opt/lsst/gsl/lib/libgsl.0.dylib\n",
      "  Referenced from: /Users/joachim/repos/mops/mops_daymops/bin/findTracklets\n",
      "  Reason: image not found\n",
      "dyld: Library not loaded: @rpath/../opt/lsst/gsl/lib/libgsl.0.dylib\n",
      "  Referenced from: /Users/joachim/repos/mops/mops_daymops/bin/findTracklets\n",
      "  Reason: image not found\n",
      "dyld: Library not loaded: @rpath/../opt/lsst/gsl/lib/libgsl.0.dylib\n",
      "  Referenced from: /Users/joachim/repos/mops/mops_daymops/bin/findTracklets\n",
      "  Reason: image not found\n",
      "dyld: Library not loaded: @rpath/../opt/lsst/gsl/lib/libgsl.0.dylib\n",
      "  Referenced from: /Users/joachim/repos/mops/mops_daymops/bin/findTracklets\n",
      "  Reason: image not found\n",
      "dyld: Library not loaded: @rpath/../opt/lsst/gsl/lib/libgsl.0.dylib\n",
      "  Referenced from: /Users/joachim/repos/mops/mops_daymops/bin/findTracklets\n",
      "  Reason: image not found\n",
      "dyld: Library not loaded: @rpath/../opt/lsst/gsl/lib/libgsl.0.dylib\n",
      "  Referenced from: /Users/joachim/repos/mops/mops_daymops/bin/findTracklets\n",
      "  Reason: image not found\n",
      "dyld: Library not loaded: @rpath/../opt/lsst/gsl/lib/libgsl.0.dylib\n",
      "  Referenced from: /Users/joachim/repos/mops/mops_daymops/bin/findTracklets\n",
      "  Reason: image not found\n",
      "dyld: Library not loaded: @rpath/../opt/lsst/gsl/lib/libgsl.0.dylib\n",
      "  Referenced from: /Users/joachim/repos/mops/mops_daymops/bin/findTracklets\n",
      "  Reason: image not found\n",
      "dyld: Library not loaded: @rpath/../opt/lsst/gsl/lib/libgsl.0.dylib\n",
      "  Referenced from: /Users/joachim/repos/mops/mops_daymops/bin/findTracklets\n",
      "  Reason: image not found\n",
      "dyld: Library not loaded: @rpath/../opt/lsst/gsl/lib/libgsl.0.dylib\n",
      "  Referenced from: /Users/joachim/repos/mops/mops_daymops/bin/findTracklets\n",
      "  Reason: image not found\n",
      "dyld: Library not loaded: @rpath/../opt/lsst/gsl/lib/libgsl.0.dylib\n",
      "  Referenced from: /Users/joachim/repos/mops/mops_daymops/bin/findTracklets\n",
      "  Reason: image not found\n",
      "dyld: Library not loaded: @rpath/../opt/lsst/gsl/lib/libgsl.0.dylib\n",
      "  Referenced from: /Users/joachim/repos/mops/mops_daymops/bin/findTracklets\n",
      "  Reason: image not found\n",
      "dyld: Library not loaded: @rpath/../opt/lsst/gsl/lib/libgsl.0.dylib\n",
      "  Referenced from: /Users/joachim/repos/mops/mops_daymops/bin/findTracklets\n",
      "  Reason: image not found\n",
      "dyld: Library not loaded: @rpath/../opt/lsst/gsl/lib/libgsl.0.dylib\n",
      "  Referenced from: /Users/joachim/repos/mops/mops_daymops/bin/findTracklets\n",
      "  Reason: image not found\n",
      "dyld: Library not loaded: @rpath/../opt/lsst/gsl/lib/libgsl.0.dylib\n",
      "  Referenced from: /Users/joachim/repos/mops/mops_daymops/bin/findTracklets\n",
      "  Reason: image not found\n",
      "dyld: Library not loaded: @rpath/../opt/lsst/gsl/lib/libgsl.0.dylib\n",
      "  Referenced from: /Users/joachim/repos/mops/mops_daymops/bin/findTracklets\n",
      "  Reason: image not found\n",
      "dyld: Library not loaded: @rpath/../opt/lsst/gsl/lib/libgsl.0.dylib\n",
      "  Referenced from: /Users/joachim/repos/mops/mops_daymops/bin/findTracklets\n",
      "  Reason: image not found\n",
      "dyld: Library not loaded: @rpath/../opt/lsst/gsl/lib/libgsl.0.dylib\n",
      "  Referenced from: /Users/joachim/repos/mops/mops_daymops/bin/findTracklets\n",
      "  Reason: image not found\n",
      "dyld: Library not loaded: @rpath/../opt/lsst/gsl/lib/libgsl.0.dylib\n",
      "  Referenced from: /Users/joachim/repos/mops/mops_daymops/bin/findTracklets\n",
      "  Reason: image not found\n",
      "dyld: Library not loaded: @rpath/../opt/lsst/gsl/lib/libgsl.0.dylib\n",
      "  Referenced from: /Users/joachim/repos/mops/mops_daymops/bin/findTracklets\n",
      "  Reason: image not found\n",
      "dyld: Library not loaded: @rpath/../opt/lsst/gsl/lib/libgsl.0.dylib\n",
      "  Referenced from: /Users/joachim/repos/mops/mops_daymops/bin/findTracklets\n",
      "  Reason: image not found\n",
      "dyld: Library not loaded: @rpath/../opt/lsst/gsl/lib/libgsl.0.dylib\n",
      "  Referenced from: /Users/joachim/repos/mops/mops_daymops/bin/findTracklets\n",
      "  Reason: image not found\n",
      "dyld: Library not loaded: @rpath/../opt/lsst/gsl/lib/libgsl.0.dylib\n",
      "  Referenced from: /Users/joachim/repos/mops/mops_daymops/bin/findTracklets\n",
      "  Reason: image not found\n",
      "dyld: Library not loaded: @rpath/../opt/lsst/gsl/lib/libgsl.0.dylib\n",
      "  Referenced from: /Users/joachim/repos/mops/mops_daymops/bin/findTracklets\n",
      "  Reason: image not found\n",
      "dyld: Library not loaded: @rpath/../opt/lsst/gsl/lib/libgsl.0.dylib\n",
      "  Referenced from: /Users/joachim/repos/mops/mops_daymops/bin/findTracklets\n",
      "  Reason: image not found\n",
      "dyld: Library not loaded: @rpath/../opt/lsst/gsl/lib/libgsl.0.dylib\n",
      "  Referenced from: /Users/joachim/repos/mops/mops_daymops/bin/findTracklets\n",
      "  Reason: image not found\n",
      "dyld: Library not loaded: @rpath/../opt/lsst/gsl/lib/libgsl.0.dylib\n",
      "  Referenced from: /Users/joachim/repos/mops/mops_daymops/bin/findTracklets\n",
      "  Reason: image not found\n",
      "dyld: Library not loaded: @rpath/../opt/lsst/gsl/lib/libgsl.0.dylib\n",
      "  Referenced from: /Users/joachim/repos/mops/mops_daymops/bin/findTracklets\n",
      "  Reason: image not found\n",
      "dyld: Library not loaded: @rpath/../opt/lsst/gsl/lib/libgsl.0.dylib\n",
      "  Referenced from: /Users/joachim/repos/mops/mops_daymops/bin/findTracklets\n",
      "  Reason: image not found\n"
     ]
    }
   ],
   "source": [
    "for n in os.listdir(nightly_noErr):\n",
    "    outfile = tracklets_noErr + '/' + n + '.tracklet'\n",
    "    infile = nightly_noErr + '/' + n\n",
    "    ! findTracklets -i {infile} -o {outfile}"
   ]
  },
  {
   "cell_type": "code",
   "execution_count": null,
   "metadata": {
    "collapsed": true
   },
   "outputs": [],
   "source": []
  }
 ],
 "metadata": {
  "kernelspec": {
   "display_name": "Python 2",
   "language": "python",
   "name": "python2"
  },
  "language_info": {
   "codemirror_mode": {
    "name": "ipython",
    "version": 2
   },
   "file_extension": ".py",
   "mimetype": "text/x-python",
   "name": "python",
   "nbconvert_exporter": "python",
   "pygments_lexer": "ipython2",
   "version": "2.7.10"
  }
 },
 "nbformat": 4,
 "nbformat_minor": 0
}
