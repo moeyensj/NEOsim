{
 "cells": [
  {
   "cell_type": "code",
   "execution_count": 1,
   "metadata": {
    "collapsed": true
   },
   "outputs": [],
   "source": [
    "import sqlite3\n",
    "import pandas as pd\n",
    "import numpy as np\n",
    "import matplotlib.pyplot as plt\n",
    "import os\n",
    "\n",
    "% matplotlib inline"
   ]
  },
  {
   "cell_type": "code",
   "execution_count": 2,
   "metadata": {
    "collapsed": true
   },
   "outputs": [],
   "source": [
    "vmax1 = 0.5\n",
    "vmax2 = 2.0\n",
    "\n",
    "dataSet1 = 'fullSky_year5_withinMagLimits_noAstromErr.txt'\n",
    "dataSet2 = 'fullSky_year5_withinMagLimits_withAstromError.txt'"
   ]
  },
  {
   "cell_type": "code",
   "execution_count": 3,
   "metadata": {
    "collapsed": false
   },
   "outputs": [],
   "source": [
    "def directoryBuilder(vmax, name, gitDirectory='', insideGitRepo=True):\n",
    "    \n",
    "    nightlyDir = 'nightly_v%s_%s' % (str(vmax), name)\n",
    "    obshistDir = 'obshist_v%s_%s' % (str(vmax), name)\n",
    "    trackletsDir = 'tracklets_v%s_%s' % (str(vmax), name)\n",
    "    tracksDir = 'tracks_v%s_%s' % (str(vmax), name)\n",
    "    \n",
    "    dirs = [nightlyDir, obshistDir, trackletsDir, tracksDir]\n",
    "    \n",
    "    for d in dirs:\n",
    "        try:\n",
    "            os.stat(d)\n",
    "            print d + ' already exists'\n",
    "        except:\n",
    "            os.mkdir(d)\n",
    "            print 'Created %s directory.' % (d)\n",
    "            \n",
    "            if insideGitRepo:\n",
    "                gitignore = gitDirectory + '.gitignore'\n",
    "                with open(gitignore, 'a' ) as file:\n",
    "                    file.write(d + '\\n')\n",
    "                    \n",
    "                print 'Added all directories to .gitignore.'\n",
    "            \n",
    "    return dirs"
   ]
  },
  {
   "cell_type": "code",
   "execution_count": 4,
   "metadata": {
    "collapsed": false
   },
   "outputs": [
    {
     "name": "stdout",
     "output_type": "stream",
     "text": [
      "Created nightly_v0.5_noErr directory.\n",
      "Added all directories to .gitignore.\n",
      "Created obshist_v0.5_noErr directory.\n",
      "Added all directories to .gitignore.\n",
      "Created tracklets_v0.5_noErr directory.\n",
      "Added all directories to .gitignore.\n",
      "Created tracks_v0.5_noErr directory.\n",
      "Added all directories to .gitignore.\n",
      "Created nightly_v2.0_noErr directory.\n",
      "Added all directories to .gitignore.\n",
      "Created obshist_v2.0_noErr directory.\n",
      "Added all directories to .gitignore.\n",
      "Created tracklets_v2.0_noErr directory.\n",
      "Added all directories to .gitignore.\n",
      "Created tracks_v2.0_noErr directory.\n",
      "Added all directories to .gitignore.\n",
      "Created nightly_v0.5_withErr directory.\n",
      "Added all directories to .gitignore.\n",
      "Created obshist_v0.5_withErr directory.\n",
      "Added all directories to .gitignore.\n",
      "Created tracklets_v0.5_withErr directory.\n",
      "Added all directories to .gitignore.\n",
      "Created tracks_v0.5_withErr directory.\n",
      "Added all directories to .gitignore.\n",
      "Created nightly_v2.0_withErr directory.\n",
      "Added all directories to .gitignore.\n",
      "Created obshist_v2.0_withErr directory.\n",
      "Added all directories to .gitignore.\n",
      "Created tracklets_v2.0_withErr directory.\n",
      "Added all directories to .gitignore.\n",
      "Created tracks_v2.0_withErr directory.\n",
      "Added all directories to .gitignore.\n"
     ]
    }
   ],
   "source": [
    "dirs_noErr1 = directoryBuilder(vmax1, 'noErr')\n",
    "dirs_noErr2 = directoryBuilder(vmax2, 'noErr')\n",
    "dirs_withErr1 = directoryBuilder(vmax1, 'withErr')\n",
    "dirs_withErr2 = directoryBuilder(vmax2, 'withErr')"
   ]
  },
  {
   "cell_type": "markdown",
   "metadata": {},
   "source": [
    "### Running splitByNight.py"
   ]
  },
  {
   "cell_type": "code",
   "execution_count": null,
   "metadata": {
    "collapsed": false
   },
   "outputs": [],
   "source": [
    "# run splitByNight.py on noErr dataset\n",
    "! python /Users/joachim/repos/mops/mops_daymops/bin/splitByNight.py {dataSet1} {nightly_noErr} {obshit_noErr}"
   ]
  },
  {
   "cell_type": "code",
   "execution_count": null,
   "metadata": {
    "collapsed": false
   },
   "outputs": [],
   "source": [
    "# run splitByNight.py on withErr dataset\n",
    "! python /Users/joachim/repos/mops/mops_daymops/bin/splitByNight.py {dataSet2} {nightly_withErr} {obshit_withErr}"
   ]
  },
  {
   "cell_type": "markdown",
   "metadata": {},
   "source": [
    "### Running findTracklets"
   ]
  },
  {
   "cell_type": "code",
   "execution_count": null,
   "metadata": {
    "collapsed": false
   },
   "outputs": [],
   "source": [
    "! findTracklets"
   ]
  },
  {
   "cell_type": "code",
   "execution_count": null,
   "metadata": {
    "collapsed": false
   },
   "outputs": [],
   "source": [
    "alias findTracklets findTracklets"
   ]
  },
  {
   "cell_type": "code",
   "execution_count": null,
   "metadata": {
    "collapsed": false
   },
   "outputs": [],
   "source": [
    "findTracklets"
   ]
  },
  {
   "cell_type": "code",
   "execution_count": null,
   "metadata": {
    "collapsed": false
   },
   "outputs": [],
   "source": [
    "for n in os.listdir(nightly_noErr):\n",
    "    outfile = tracklets_noErr + '/' + n + '.tracklet'\n",
    "    infile = nightly_noErr + '/' + n\n",
    "    ! findTracklets -i {infile} -o {outfile}"
   ]
  },
  {
   "cell_type": "code",
   "execution_count": null,
   "metadata": {
    "collapsed": true
   },
   "outputs": [],
   "source": []
  }
 ],
 "metadata": {
  "kernelspec": {
   "display_name": "Python 2",
   "language": "python",
   "name": "python2"
  },
  "language_info": {
   "codemirror_mode": {
    "name": "ipython",
    "version": 2
   },
   "file_extension": ".py",
   "mimetype": "text/x-python",
   "name": "python",
   "nbconvert_exporter": "python",
   "pygments_lexer": "ipython2",
   "version": "2.7.10"
  }
 },
 "nbformat": 4,
 "nbformat_minor": 0
}
