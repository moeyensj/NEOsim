{
 "cells": [
  {
   "cell_type": "code",
   "execution_count": 2,
   "metadata": {
    "collapsed": false
   },
   "outputs": [],
   "source": [
    "import sqlite3\n",
    "import pandas as pd\n",
    "import numpy as np\n",
    "import matplotlib.pyplot as plt\n",
    "\n",
    "% matplotlib inline"
   ]
  },
  {
   "cell_type": "code",
   "execution_count": 3,
   "metadata": {
    "collapsed": true
   },
   "outputs": [],
   "source": [
    "dataSet1 = 'fullSky_year5_withinMagLimits_noAstromErr.txt'\n",
    "dataSet2 = 'fullSky_year5_withinMagLimits_withAstromError.txt'\n",
    "dbname = 'fullsky5year.db'"
   ]
  },
  {
   "cell_type": "code",
   "execution_count": 5,
   "metadata": {
    "collapsed": false
   },
   "outputs": [
    {
     "name": "stdout",
     "output_type": "stream",
     "text": [
      "fullSky_year5_withinMagLimits_noAstromErr.txt\r\n",
      "fullSky_year5_withinMagLimits_withAstromError.txt\r\n"
     ]
    }
   ],
   "source": [
    "! ls *.txt"
   ]
  },
  {
   "cell_type": "code",
   "execution_count": 6,
   "metadata": {
    "collapsed": false
   },
   "outputs": [],
   "source": [
    "con = sqlite3.connect(\"fullsky5year.db\")"
   ]
  },
  {
   "cell_type": "code",
   "execution_count": 7,
   "metadata": {
    "collapsed": false
   },
   "outputs": [
    {
     "name": "stdout",
     "output_type": "stream",
     "text": [
      "0\t88648008\t293470\t222.105356\t-25.922042\t51028.961825\t19.439661\t28.546017\r\n",
      "1\t88648008\t345561\t223.344112\t-25.024152\t51028.961825\t18.664966\t58.267111\r\n",
      "2\t88648008\t347355\t224.888605\t-26.936094\t51028.961825\t20.470075\t11.050455\r\n",
      "3\t88648008\t347486\t224.737465\t-27.01903\t51028.961825\t20.903364\t7.4142\r\n",
      "4\t88648008\t352241\t224.059843\t-27.670461\t51028.961825\t20.606525\t9.745406\r\n",
      "5\t88648008\t368430\t222.026023\t-26.324948\t51028.961825\t21.134773\t5.991021\r\n",
      "6\t88648008\t382815\t225.409264\t-25.877855\t51028.961825\t21.081325\t6.29332\r\n",
      "7\t88648008\t385797\t222.160757\t-24.663902\t51028.961825\t20.244909\t13.597105\r\n",
      "8\t88648008\t405550\t223.95107\t-25.097397\t51028.961825\t20.89285\t7.486345\r\n",
      "9\t88648008\t420948\t224.733141\t-26.772973\t51028.961825\t20.206288\t14.089477\r\n"
     ]
    }
   ],
   "source": [
    "! head fullSky_year5_withinMagLimits_noAstromErr.txt"
   ]
  },
  {
   "cell_type": "code",
   "execution_count": 8,
   "metadata": {
    "collapsed": false
   },
   "outputs": [
    {
     "name": "stdout",
     "output_type": "stream",
     "text": [
      "0 88648008 293470 222.105326973 -25.922047919 51028.961825 19.439661 28.546017 \r\n",
      "1 88648008 345561 223.344121397 -25.024129773 51028.961825 18.664966 58.267111 \r\n",
      "2 88648008 347355 224.888641475 -26.936104948 51028.961825 20.470075 11.050455 \r\n",
      "3 88648008 347486 224.737456371 -27.019054417 51028.961825 20.903364 7.414200 \r\n",
      "4 88648008 352241 224.059800714 -27.670502710 51028.961825 20.606525 9.745406 \r\n",
      "5 88648008 368430 222.026062694 -26.324976069 51028.961825 21.134773 5.991021 \r\n",
      "6 88648008 382815 225.409282656 -25.877890173 51028.961825 21.081325 6.293320 \r\n",
      "7 88648008 385797 222.160772513 -24.663930254 51028.961825 20.244909 13.597105 \r\n",
      "8 88648008 405550 223.951077909 -25.097401094 51028.961825 20.892850 7.486345 \r\n",
      "9 88648008 420948 224.733138920 -26.772944254 51028.961825 20.206288 14.089477 \r\n"
     ]
    }
   ],
   "source": [
    "! head fullSky_year5_withinMagLimits_withAstromError.txt"
   ]
  },
  {
   "cell_type": "code",
   "execution_count": 9,
   "metadata": {
    "collapsed": false
   },
   "outputs": [
    {
     "data": {
      "text/plain": [
       "<sqlite3.Cursor at 0x108ceb570>"
      ]
     },
     "execution_count": 9,
     "metadata": {},
     "output_type": "execute_result"
    }
   ],
   "source": [
    "con.execute(\"\"\"\n",
    "CREATE TABLE noAstromErr (\n",
    "\tnum\tINTEGER,\n",
    "\tnightid\tINTEGER,\n",
    "\tobjid\tINTEGER,\n",
    "\tra\tREAL,\n",
    "\tdec\tREAL,\n",
    "\tmjd\tREAL,\n",
    "\tmag\tREAL,\n",
    "\tsnr\tREAL\n",
    ");\n",
    "\"\"\")"
   ]
  },
  {
   "cell_type": "code",
   "execution_count": 10,
   "metadata": {
    "collapsed": false
   },
   "outputs": [
    {
     "data": {
      "text/plain": [
       "<sqlite3.Cursor at 0x108ceb500>"
      ]
     },
     "execution_count": 10,
     "metadata": {},
     "output_type": "execute_result"
    }
   ],
   "source": [
    "con.execute(\"\"\"\n",
    "CREATE TABLE withAstromErr (\n",
    "\tnum\tINTEGER,\n",
    "\tnightid\tINTEGER,\n",
    "\tobjid\tINTEGER,\n",
    "\tra\tREAL,\n",
    "\tdec\tREAL,\n",
    "\tmjd\tREAL,\n",
    "\tmag\tREAL,\n",
    "\tsnr\tREAL\n",
    ");\n",
    "\"\"\")"
   ]
  },
  {
   "cell_type": "code",
   "execution_count": 11,
   "metadata": {
    "collapsed": false
   },
   "outputs": [],
   "source": [
    "data1 = pd.read_csv(dataSet1, header=None, delim_whitespace=True, names=['num','nightid','objid','ra','dec','mjd','mag','snr'], index_col='num')"
   ]
  },
  {
   "cell_type": "code",
   "execution_count": 12,
   "metadata": {
    "collapsed": false
   },
   "outputs": [],
   "source": [
    "data2 = pd.read_csv(dataSet2, header=None, delim_whitespace=True, names=['num','nightid','objid','ra','dec','mjd','mag','snr'], index_col='num')"
   ]
  },
  {
   "cell_type": "code",
   "execution_count": 13,
   "metadata": {
    "collapsed": false
   },
   "outputs": [],
   "source": [
    "data1.to_sql('noAstromErr', con, if_exists='append')"
   ]
  },
  {
   "cell_type": "code",
   "execution_count": 14,
   "metadata": {
    "collapsed": true
   },
   "outputs": [],
   "source": [
    "data2.to_sql('withAstromErr', con, if_exists='append')"
   ]
  },
  {
   "cell_type": "code",
   "execution_count": 15,
   "metadata": {
    "collapsed": true
   },
   "outputs": [],
   "source": [
    "con.close()\n",
    "del data1\n",
    "del data2"
   ]
  },
  {
   "cell_type": "code",
   "execution_count": null,
   "metadata": {
    "collapsed": true
   },
   "outputs": [],
   "source": []
  }
 ],
 "metadata": {
  "kernelspec": {
   "display_name": "Python 2",
   "language": "python",
   "name": "python2"
  },
  "language_info": {
   "codemirror_mode": {
    "name": "ipython",
    "version": 2
   },
   "file_extension": ".py",
   "mimetype": "text/x-python",
   "name": "python",
   "nbconvert_exporter": "python",
   "pygments_lexer": "ipython2",
   "version": "2.7.10"
  }
 },
 "nbformat": 4,
 "nbformat_minor": 0
}
