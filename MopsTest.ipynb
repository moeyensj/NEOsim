{
 "cells": [
  {
   "cell_type": "code",
   "execution_count": 1,
   "metadata": {
    "collapsed": false
   },
   "outputs": [],
   "source": [
    "import sqlite3\n",
    "import pandas as pd\n",
    "import numpy as np\n",
    "import matplotlib.pyplot as plt\n",
    "\n",
    "import runMops as mops\n",
    "#import MopsPlotter as mpp\n",
    "from MopsParameters import MopsParameters\n",
    "from MopsTracker import MopsTracker\n",
    "\n",
    "% matplotlib inline"
   ]
  },
  {
   "cell_type": "code",
   "execution_count": 2,
   "metadata": {
    "collapsed": false
   },
   "outputs": [
    {
     "name": "stdout",
     "output_type": "stream",
     "text": [
      "------- MOPS Parameters --------\n",
      "Current Parameter Values:\n",
      "\n",
      "---- findTracklets ----\n",
      "\tMaximum velocity:          2.0\n",
      "\tMinimum velocity:          0.0\n",
      "---- collapseTracklets ----\n",
      "\tRight Ascension tolerance: 0.002\n",
      "\tDeclination tolerance:     0.002\n",
      "\tAngular tolerance:         5\n",
      "\tVelocity tolerance:        0.05\n",
      "---- purifyTracklets ----\n",
      "\tMaximum RMS:               0.001\n",
      "---- makeLinkTrackletsInput_byNight.py ----\n",
      "\tWindow size:               15\n",
      "\n",
      "------- MOPS Tracker --------\n",
      "Tracker initialized...\n",
      "\n"
     ]
    }
   ],
   "source": [
    "name = 'testRun'\n",
    "nightlySources = 'nightly/'\n",
    "parameters = MopsParameters()\n",
    "tracker = MopsTracker(name)"
   ]
  },
  {
   "cell_type": "code",
   "execution_count": 3,
   "metadata": {
    "collapsed": false,
    "scrolled": false
   },
   "outputs": [
    {
     "name": "stdout",
     "output_type": "stream",
     "text": [
      "---- directoryBuilder ----\n",
      "Created testRun/ directory.\n",
      "\tCreated tracklets/ directory.\n",
      "\tCreated trackletsCollapsed/ directory.\n",
      "\tCreated trackletsPurified/ directory.\n",
      "\tCreated trackletsFinal/ directory.\n",
      "\tCreated trackletsByNight/ directory.\n",
      "\tCreated tracks/ directory.\n",
      "\n",
      "Saving MopsParameters to testRun/parameters.yaml\n",
      "---- findTracklets ----\n",
      "\n",
      "---- idsToIndices.py ----\n",
      "\n",
      "---- collapseTracklets ----\n",
      "\n",
      "---- purifyTracklets ----\n",
      "\n",
      "---- removeSubsets ----\n",
      "\n",
      "---- indicesToIds.py ----\n",
      "\n",
      "---- makeLinkTrackletsInput_byNight.py ----\n",
      "\n",
      "---- linkTracklets ----\n",
      "\n",
      "Current run status:\n",
      "\tfindTracklets:                     True\n",
      "\tidsToIndices.py:                   True\n",
      "\tcollapseTracklets:                 True\n",
      "\tpurifyTracklets:                   True\n",
      "\tremoveSubsets                      True\n",
      "\tindicesToIds.py:                   True\n",
      "\tmakeLinkTrackletsInputByNight.py:  True\n",
      "\tlinkTracklets:                     True\n",
      "Saving MopsTracker to testRun/tracker.yaml\n"
     ]
    }
   ],
   "source": [
    "! rm -rf {name}\n",
    "mops.runMops(parameters, tracker, 'nightly/', 'testRun')"
   ]
  },
  {
   "cell_type": "code",
   "execution_count": 4,
   "metadata": {
    "collapsed": false
   },
   "outputs": [],
   "source": [
    "diasources = tracker.diaSources\n",
    "tracklets = tracker.tracklets\n",
    "trackletsByIndex = tracker.trackletsByIndex\n",
    "collapsed = tracker.collapsedTracklets\n",
    "purified = tracker.purifiedTracklets\n",
    "final = tracker.finalTracklets\n",
    "trackletsById = tracker.trackletsById\n",
    "dets = tracker.trackletsByNightDets\n",
    "ids = tracker.trackletsByNightIds\n",
    "tracks = tracker.tracks "
   ]
  },
  {
   "cell_type": "code",
   "execution_count": 5,
   "metadata": {
    "collapsed": false
   },
   "outputs": [
    {
     "name": "stdout",
     "output_type": "stream",
     "text": [
      "['testRun/tracklets/54466.tracklet', 'testRun/tracklets/54467.tracklet', 'testRun/tracklets/54468.tracklet']\n"
     ]
    }
   ],
   "source": [
    "print tracklets\n",
    "\n",
    "collapsed = np.loadtxt(collapsed[0])\n",
    "purified = np.loadtxt(purified[0])\n",
    "tracks = np.loadtxt(tracks[0])"
   ]
  },
  {
   "cell_type": "code",
   "execution_count": 6,
   "metadata": {
    "collapsed": true
   },
   "outputs": [],
   "source": [
    "dbname = 'testData/testsources.db'"
   ]
  },
  {
   "cell_type": "code",
   "execution_count": 7,
   "metadata": {
    "collapsed": true
   },
   "outputs": [],
   "source": [
    "con = sqlite3.connect(dbname)"
   ]
  },
  {
   "cell_type": "code",
   "execution_count": 8,
   "metadata": {
    "collapsed": false
   },
   "outputs": [],
   "source": [
    "data = pd.read_sql_query(\"\"\"\n",
    "SELECT * FROM testsources\n",
    "\"\"\", con)"
   ]
  },
  {
   "cell_type": "code",
   "execution_count": 9,
   "metadata": {
    "collapsed": false
   },
   "outputs": [
    {
     "data": {
      "text/html": [
       "<div>\n",
       "<table border=\"1\" class=\"dataframe\">\n",
       "  <thead>\n",
       "    <tr style=\"text-align: right;\">\n",
       "      <th></th>\n",
       "      <th>diaid</th>\n",
       "      <th>obshistid</th>\n",
       "      <th>ssmid</th>\n",
       "      <th>ra</th>\n",
       "      <th>dec</th>\n",
       "      <th>mjd</th>\n",
       "      <th>mag</th>\n",
       "      <th>snr</th>\n",
       "    </tr>\n",
       "  </thead>\n",
       "  <tbody>\n",
       "    <tr>\n",
       "      <th>0</th>\n",
       "      <td>0</td>\n",
       "      <td>0</td>\n",
       "      <td>1</td>\n",
       "      <td>245.190772</td>\n",
       "      <td>-23.522923</td>\n",
       "      <td>54466.000000</td>\n",
       "      <td>15.859366</td>\n",
       "      <td>5</td>\n",
       "    </tr>\n",
       "    <tr>\n",
       "      <th>1</th>\n",
       "      <td>1</td>\n",
       "      <td>1</td>\n",
       "      <td>1</td>\n",
       "      <td>245.207797</td>\n",
       "      <td>-23.524799</td>\n",
       "      <td>54466.041667</td>\n",
       "      <td>15.859578</td>\n",
       "      <td>5</td>\n",
       "    </tr>\n",
       "    <tr>\n",
       "      <th>2</th>\n",
       "      <td>2</td>\n",
       "      <td>2</td>\n",
       "      <td>1</td>\n",
       "      <td>245.595164</td>\n",
       "      <td>-23.568111</td>\n",
       "      <td>54467.000000</td>\n",
       "      <td>15.864174</td>\n",
       "      <td>5</td>\n",
       "    </tr>\n",
       "    <tr>\n",
       "      <th>3</th>\n",
       "      <td>3</td>\n",
       "      <td>3</td>\n",
       "      <td>1</td>\n",
       "      <td>245.612142</td>\n",
       "      <td>-23.569938</td>\n",
       "      <td>54467.041667</td>\n",
       "      <td>15.864378</td>\n",
       "      <td>5</td>\n",
       "    </tr>\n",
       "    <tr>\n",
       "      <th>4</th>\n",
       "      <td>4</td>\n",
       "      <td>4</td>\n",
       "      <td>1</td>\n",
       "      <td>245.998400</td>\n",
       "      <td>-23.612118</td>\n",
       "      <td>54468.000000</td>\n",
       "      <td>15.868794</td>\n",
       "      <td>5</td>\n",
       "    </tr>\n",
       "    <tr>\n",
       "      <th>5</th>\n",
       "      <td>5</td>\n",
       "      <td>5</td>\n",
       "      <td>1</td>\n",
       "      <td>246.015332</td>\n",
       "      <td>-23.613897</td>\n",
       "      <td>54468.041667</td>\n",
       "      <td>15.868990</td>\n",
       "      <td>5</td>\n",
       "    </tr>\n",
       "    <tr>\n",
       "      <th>6</th>\n",
       "      <td>6</td>\n",
       "      <td>0</td>\n",
       "      <td>2</td>\n",
       "      <td>239.776045</td>\n",
       "      <td>-12.785856</td>\n",
       "      <td>54466.000000</td>\n",
       "      <td>25.484897</td>\n",
       "      <td>5</td>\n",
       "    </tr>\n",
       "    <tr>\n",
       "      <th>7</th>\n",
       "      <td>7</td>\n",
       "      <td>1</td>\n",
       "      <td>2</td>\n",
       "      <td>239.790793</td>\n",
       "      <td>-12.788275</td>\n",
       "      <td>54466.041667</td>\n",
       "      <td>25.484908</td>\n",
       "      <td>5</td>\n",
       "    </tr>\n",
       "    <tr>\n",
       "      <th>8</th>\n",
       "      <td>8</td>\n",
       "      <td>2</td>\n",
       "      <td>2</td>\n",
       "      <td>240.126284</td>\n",
       "      <td>-12.843637</td>\n",
       "      <td>54467.000000</td>\n",
       "      <td>25.484925</td>\n",
       "      <td>5</td>\n",
       "    </tr>\n",
       "    <tr>\n",
       "      <th>9</th>\n",
       "      <td>9</td>\n",
       "      <td>3</td>\n",
       "      <td>2</td>\n",
       "      <td>240.140997</td>\n",
       "      <td>-12.846006</td>\n",
       "      <td>54467.041667</td>\n",
       "      <td>25.484929</td>\n",
       "      <td>5</td>\n",
       "    </tr>\n",
       "    <tr>\n",
       "      <th>10</th>\n",
       "      <td>10</td>\n",
       "      <td>4</td>\n",
       "      <td>2</td>\n",
       "      <td>240.475672</td>\n",
       "      <td>-12.900223</td>\n",
       "      <td>54468.000000</td>\n",
       "      <td>25.484804</td>\n",
       "      <td>5</td>\n",
       "    </tr>\n",
       "    <tr>\n",
       "      <th>11</th>\n",
       "      <td>11</td>\n",
       "      <td>5</td>\n",
       "      <td>2</td>\n",
       "      <td>240.490350</td>\n",
       "      <td>-12.902542</td>\n",
       "      <td>54468.041667</td>\n",
       "      <td>25.484802</td>\n",
       "      <td>5</td>\n",
       "    </tr>\n",
       "    <tr>\n",
       "      <th>12</th>\n",
       "      <td>12</td>\n",
       "      <td>0</td>\n",
       "      <td>3</td>\n",
       "      <td>277.409858</td>\n",
       "      <td>-21.932396</td>\n",
       "      <td>54466.000000</td>\n",
       "      <td>24.434931</td>\n",
       "      <td>5</td>\n",
       "    </tr>\n",
       "    <tr>\n",
       "      <th>13</th>\n",
       "      <td>13</td>\n",
       "      <td>1</td>\n",
       "      <td>3</td>\n",
       "      <td>277.411194</td>\n",
       "      <td>-21.932325</td>\n",
       "      <td>54466.041667</td>\n",
       "      <td>24.435063</td>\n",
       "      <td>5</td>\n",
       "    </tr>\n",
       "    <tr>\n",
       "      <th>14</th>\n",
       "      <td>14</td>\n",
       "      <td>2</td>\n",
       "      <td>3</td>\n",
       "      <td>277.441740</td>\n",
       "      <td>-21.930799</td>\n",
       "      <td>54467.000000</td>\n",
       "      <td>24.438116</td>\n",
       "      <td>5</td>\n",
       "    </tr>\n",
       "    <tr>\n",
       "      <th>15</th>\n",
       "      <td>15</td>\n",
       "      <td>3</td>\n",
       "      <td>3</td>\n",
       "      <td>277.443076</td>\n",
       "      <td>-21.930728</td>\n",
       "      <td>54467.041667</td>\n",
       "      <td>24.438252</td>\n",
       "      <td>5</td>\n",
       "    </tr>\n",
       "    <tr>\n",
       "      <th>16</th>\n",
       "      <td>16</td>\n",
       "      <td>4</td>\n",
       "      <td>3</td>\n",
       "      <td>277.473592</td>\n",
       "      <td>-21.929187</td>\n",
       "      <td>54468.000000</td>\n",
       "      <td>24.441349</td>\n",
       "      <td>5</td>\n",
       "    </tr>\n",
       "    <tr>\n",
       "      <th>17</th>\n",
       "      <td>17</td>\n",
       "      <td>5</td>\n",
       "      <td>3</td>\n",
       "      <td>277.474926</td>\n",
       "      <td>-21.929116</td>\n",
       "      <td>54468.041667</td>\n",
       "      <td>24.441486</td>\n",
       "      <td>5</td>\n",
       "    </tr>\n",
       "  </tbody>\n",
       "</table>\n",
       "</div>"
      ],
      "text/plain": [
       "    diaid  obshistid  ssmid          ra        dec           mjd        mag  \\\n",
       "0       0          0      1  245.190772 -23.522923  54466.000000  15.859366   \n",
       "1       1          1      1  245.207797 -23.524799  54466.041667  15.859578   \n",
       "2       2          2      1  245.595164 -23.568111  54467.000000  15.864174   \n",
       "3       3          3      1  245.612142 -23.569938  54467.041667  15.864378   \n",
       "4       4          4      1  245.998400 -23.612118  54468.000000  15.868794   \n",
       "5       5          5      1  246.015332 -23.613897  54468.041667  15.868990   \n",
       "6       6          0      2  239.776045 -12.785856  54466.000000  25.484897   \n",
       "7       7          1      2  239.790793 -12.788275  54466.041667  25.484908   \n",
       "8       8          2      2  240.126284 -12.843637  54467.000000  25.484925   \n",
       "9       9          3      2  240.140997 -12.846006  54467.041667  25.484929   \n",
       "10     10          4      2  240.475672 -12.900223  54468.000000  25.484804   \n",
       "11     11          5      2  240.490350 -12.902542  54468.041667  25.484802   \n",
       "12     12          0      3  277.409858 -21.932396  54466.000000  24.434931   \n",
       "13     13          1      3  277.411194 -21.932325  54466.041667  24.435063   \n",
       "14     14          2      3  277.441740 -21.930799  54467.000000  24.438116   \n",
       "15     15          3      3  277.443076 -21.930728  54467.041667  24.438252   \n",
       "16     16          4      3  277.473592 -21.929187  54468.000000  24.441349   \n",
       "17     17          5      3  277.474926 -21.929116  54468.041667  24.441486   \n",
       "\n",
       "    snr  \n",
       "0     5  \n",
       "1     5  \n",
       "2     5  \n",
       "3     5  \n",
       "4     5  \n",
       "5     5  \n",
       "6     5  \n",
       "7     5  \n",
       "8     5  \n",
       "9     5  \n",
       "10    5  \n",
       "11    5  \n",
       "12    5  \n",
       "13    5  \n",
       "14    5  \n",
       "15    5  \n",
       "16    5  \n",
       "17    5  "
      ]
     },
     "execution_count": 9,
     "metadata": {},
     "output_type": "execute_result"
    }
   ],
   "source": [
    "data"
   ]
  },
  {
   "cell_type": "code",
   "execution_count": 10,
   "metadata": {
    "collapsed": false
   },
   "outputs": [
    {
     "ename": "NameError",
     "evalue": "name 'mpp' is not defined",
     "output_type": "error",
     "traceback": [
      "\u001b[0;31m---------------------------------------------------------------------------\u001b[0m",
      "\u001b[0;31mNameError\u001b[0m                                 Traceback (most recent call last)",
      "\u001b[0;32m<ipython-input-10-0e322db652a4>\u001b[0m in \u001b[0;36m<module>\u001b[0;34m()\u001b[0m\n\u001b[0;32m----> 1\u001b[0;31m \u001b[0mmpp\u001b[0m\u001b[0;34m.\u001b[0m\u001b[0mobjectPlot\u001b[0m\u001b[0;34m(\u001b[0m\u001b[0;34m[\u001b[0m\u001b[0;34m'1'\u001b[0m\u001b[0;34m,\u001b[0m\u001b[0;34m'2'\u001b[0m\u001b[0;34m,\u001b[0m\u001b[0;34m'3'\u001b[0m\u001b[0;34m]\u001b[0m\u001b[0;34m,\u001b[0m\u001b[0;34m'testsources'\u001b[0m\u001b[0;34m,\u001b[0m \u001b[0mcon\u001b[0m\u001b[0;34m)\u001b[0m\u001b[0;34m\u001b[0m\u001b[0m\n\u001b[0m",
      "\u001b[0;31mNameError\u001b[0m: name 'mpp' is not defined"
     ]
    }
   ],
   "source": [
    "mpp.objectPlot(['1','2','3'],'testsources', con)"
   ]
  },
  {
   "cell_type": "code",
   "execution_count": null,
   "metadata": {
    "collapsed": false
   },
   "outputs": [],
   "source": [
    "mpp.objectPlot(['1'],'testsources', con)"
   ]
  },
  {
   "cell_type": "code",
   "execution_count": null,
   "metadata": {
    "collapsed": false
   },
   "outputs": [],
   "source": [
    "tracklets"
   ]
  },
  {
   "cell_type": "code",
   "execution_count": null,
   "metadata": {
    "collapsed": true
   },
   "outputs": [],
   "source": []
  }
 ],
 "metadata": {
  "kernelspec": {
   "display_name": "Python 2",
   "language": "python",
   "name": "python2"
  },
  "language_info": {
   "codemirror_mode": {
    "name": "ipython",
    "version": 2
   },
   "file_extension": ".py",
   "mimetype": "text/x-python",
   "name": "python",
   "nbconvert_exporter": "python",
   "pygments_lexer": "ipython2",
   "version": "2.7.10"
  }
 },
 "nbformat": 4,
 "nbformat_minor": 0
}
