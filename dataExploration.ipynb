{
 "cells": [
  {
   "cell_type": "code",
   "execution_count": 1,
   "metadata": {
    "collapsed": true
   },
   "outputs": [],
   "source": [
    "import sqlite3\n",
    "import pandas as pd\n",
    "import numpy as np\n",
    "import matplotlib.pyplot as plt\n",
    "\n",
    "% matplotlib inline"
   ]
  },
  {
   "cell_type": "code",
   "execution_count": 2,
   "metadata": {
    "collapsed": true
   },
   "outputs": [],
   "source": [
    "dbname = 'fullsky5year.db'"
   ]
  },
  {
   "cell_type": "code",
   "execution_count": 3,
   "metadata": {
    "collapsed": true
   },
   "outputs": [],
   "source": [
    "con = sqlite3.connect(\"fullsky5year.db\")"
   ]
  },
  {
   "cell_type": "markdown",
   "metadata": {},
   "source": [
    "### Quick Inspection"
   ]
  },
  {
   "cell_type": "code",
   "execution_count": 4,
   "metadata": {
    "collapsed": false
   },
   "outputs": [],
   "source": [
    "mjds = pd.read_sql_query(\"\"\"\n",
    "SELECT DISTINCT mjd FROM noAstromErr\n",
    "\"\"\", con)"
   ]
  },
  {
   "cell_type": "code",
   "execution_count": 5,
   "metadata": {
    "collapsed": false
   },
   "outputs": [
    {
     "data": {
      "text/plain": [
       "28758"
      ]
     },
     "execution_count": 5,
     "metadata": {},
     "output_type": "execute_result"
    }
   ],
   "source": [
    "len(mjds)"
   ]
  },
  {
   "cell_type": "code",
   "execution_count": 6,
   "metadata": {
    "collapsed": false
   },
   "outputs": [],
   "source": [
    "visits = pd.read_sql_query(\"\"\"\n",
    "SELECT DISTINCT obshistid FROM noAstromErr\n",
    "\"\"\", con)"
   ]
  },
  {
   "cell_type": "code",
   "execution_count": 7,
   "metadata": {
    "collapsed": false
   },
   "outputs": [
    {
     "data": {
      "text/plain": [
       "28758"
      ]
     },
     "execution_count": 7,
     "metadata": {},
     "output_type": "execute_result"
    }
   ],
   "source": [
    "len(visits.obshistid)"
   ]
  },
  {
   "cell_type": "code",
   "execution_count": 4,
   "metadata": {
    "collapsed": false
   },
   "outputs": [
    {
     "data": {
      "text/html": [
       "<div>\n",
       "<table border=\"1\" class=\"dataframe\">\n",
       "  <thead>\n",
       "    <tr style=\"text-align: right;\">\n",
       "      <th></th>\n",
       "      <th>diaid</th>\n",
       "      <th>obshistid</th>\n",
       "      <th>ssmid</th>\n",
       "      <th>ra</th>\n",
       "      <th>dec</th>\n",
       "      <th>mjd</th>\n",
       "      <th>mag</th>\n",
       "      <th>snr</th>\n",
       "    </tr>\n",
       "  </thead>\n",
       "  <tbody>\n",
       "    <tr>\n",
       "      <th>0</th>\n",
       "      <td>0</td>\n",
       "      <td>88648008</td>\n",
       "      <td>293470</td>\n",
       "      <td>222.105356</td>\n",
       "      <td>-25.922042</td>\n",
       "      <td>51028.961825</td>\n",
       "      <td>19.439661</td>\n",
       "      <td>28.546017</td>\n",
       "    </tr>\n",
       "    <tr>\n",
       "      <th>1</th>\n",
       "      <td>1</td>\n",
       "      <td>88648008</td>\n",
       "      <td>345561</td>\n",
       "      <td>223.344112</td>\n",
       "      <td>-25.024152</td>\n",
       "      <td>51028.961825</td>\n",
       "      <td>18.664966</td>\n",
       "      <td>58.267111</td>\n",
       "    </tr>\n",
       "    <tr>\n",
       "      <th>2</th>\n",
       "      <td>2</td>\n",
       "      <td>88648008</td>\n",
       "      <td>347355</td>\n",
       "      <td>224.888605</td>\n",
       "      <td>-26.936094</td>\n",
       "      <td>51028.961825</td>\n",
       "      <td>20.470075</td>\n",
       "      <td>11.050455</td>\n",
       "    </tr>\n",
       "    <tr>\n",
       "      <th>3</th>\n",
       "      <td>3</td>\n",
       "      <td>88648008</td>\n",
       "      <td>347486</td>\n",
       "      <td>224.737465</td>\n",
       "      <td>-27.019030</td>\n",
       "      <td>51028.961825</td>\n",
       "      <td>20.903364</td>\n",
       "      <td>7.414200</td>\n",
       "    </tr>\n",
       "    <tr>\n",
       "      <th>4</th>\n",
       "      <td>4</td>\n",
       "      <td>88648008</td>\n",
       "      <td>352241</td>\n",
       "      <td>224.059843</td>\n",
       "      <td>-27.670461</td>\n",
       "      <td>51028.961825</td>\n",
       "      <td>20.606525</td>\n",
       "      <td>9.745406</td>\n",
       "    </tr>\n",
       "  </tbody>\n",
       "</table>\n",
       "</div>"
      ],
      "text/plain": [
       "   diaid  obshistid   ssmid          ra        dec           mjd        mag  \\\n",
       "0      0   88648008  293470  222.105356 -25.922042  51028.961825  19.439661   \n",
       "1      1   88648008  345561  223.344112 -25.024152  51028.961825  18.664966   \n",
       "2      2   88648008  347355  224.888605 -26.936094  51028.961825  20.470075   \n",
       "3      3   88648008  347486  224.737465 -27.019030  51028.961825  20.903364   \n",
       "4      4   88648008  352241  224.059843 -27.670461  51028.961825  20.606525   \n",
       "\n",
       "         snr  \n",
       "0  28.546017  \n",
       "1  58.267111  \n",
       "2  11.050455  \n",
       "3   7.414200  \n",
       "4   9.745406  "
      ]
     },
     "execution_count": 4,
     "metadata": {},
     "output_type": "execute_result"
    }
   ],
   "source": [
    "noErr = pd.read_sql_query(\"\"\"\n",
    "SELECT * FROM noAstromErr\n",
    "\"\"\", con)\n",
    "noErr.head()"
   ]
  },
  {
   "cell_type": "code",
   "execution_count": 5,
   "metadata": {
    "collapsed": false
   },
   "outputs": [
    {
     "data": {
      "text/html": [
       "<div>\n",
       "<table border=\"1\" class=\"dataframe\">\n",
       "  <thead>\n",
       "    <tr style=\"text-align: right;\">\n",
       "      <th></th>\n",
       "      <th>diaid</th>\n",
       "      <th>obshistid</th>\n",
       "      <th>ssmid</th>\n",
       "      <th>ra</th>\n",
       "      <th>dec</th>\n",
       "      <th>mjd</th>\n",
       "      <th>mag</th>\n",
       "      <th>snr</th>\n",
       "    </tr>\n",
       "  </thead>\n",
       "  <tbody>\n",
       "    <tr>\n",
       "      <th>0</th>\n",
       "      <td>0</td>\n",
       "      <td>88648008</td>\n",
       "      <td>293470</td>\n",
       "      <td>222.105356</td>\n",
       "      <td>-25.922042</td>\n",
       "      <td>51028.961825</td>\n",
       "      <td>19.439661</td>\n",
       "      <td>28.546017</td>\n",
       "    </tr>\n",
       "    <tr>\n",
       "      <th>1</th>\n",
       "      <td>1</td>\n",
       "      <td>88648008</td>\n",
       "      <td>345561</td>\n",
       "      <td>223.344112</td>\n",
       "      <td>-25.024152</td>\n",
       "      <td>51028.961825</td>\n",
       "      <td>18.664966</td>\n",
       "      <td>58.267111</td>\n",
       "    </tr>\n",
       "    <tr>\n",
       "      <th>2</th>\n",
       "      <td>2</td>\n",
       "      <td>88648008</td>\n",
       "      <td>347355</td>\n",
       "      <td>224.888605</td>\n",
       "      <td>-26.936094</td>\n",
       "      <td>51028.961825</td>\n",
       "      <td>20.470075</td>\n",
       "      <td>11.050455</td>\n",
       "    </tr>\n",
       "    <tr>\n",
       "      <th>3</th>\n",
       "      <td>3</td>\n",
       "      <td>88648008</td>\n",
       "      <td>347486</td>\n",
       "      <td>224.737465</td>\n",
       "      <td>-27.019030</td>\n",
       "      <td>51028.961825</td>\n",
       "      <td>20.903364</td>\n",
       "      <td>7.414200</td>\n",
       "    </tr>\n",
       "    <tr>\n",
       "      <th>4</th>\n",
       "      <td>4</td>\n",
       "      <td>88648008</td>\n",
       "      <td>352241</td>\n",
       "      <td>224.059843</td>\n",
       "      <td>-27.670461</td>\n",
       "      <td>51028.961825</td>\n",
       "      <td>20.606525</td>\n",
       "      <td>9.745406</td>\n",
       "    </tr>\n",
       "  </tbody>\n",
       "</table>\n",
       "</div>"
      ],
      "text/plain": [
       "   diaid  obshistid   ssmid          ra        dec           mjd        mag  \\\n",
       "0      0   88648008  293470  222.105356 -25.922042  51028.961825  19.439661   \n",
       "1      1   88648008  345561  223.344112 -25.024152  51028.961825  18.664966   \n",
       "2      2   88648008  347355  224.888605 -26.936094  51028.961825  20.470075   \n",
       "3      3   88648008  347486  224.737465 -27.019030  51028.961825  20.903364   \n",
       "4      4   88648008  352241  224.059843 -27.670461  51028.961825  20.606525   \n",
       "\n",
       "         snr  \n",
       "0  28.546017  \n",
       "1  58.267111  \n",
       "2  11.050455  \n",
       "3   7.414200  \n",
       "4   9.745406  "
      ]
     },
     "execution_count": 5,
     "metadata": {},
     "output_type": "execute_result"
    }
   ],
   "source": [
    "# Lets take a look at the first \n",
    "obshist1 = pd.read_sql_query(\"\"\"\n",
    "SELECT * FROM noAstromErr\n",
    "WHERE obshistid = 88648008;\n",
    "\"\"\", con)\n",
    "obshist1.head()"
   ]
  },
  {
   "cell_type": "code",
   "execution_count": 6,
   "metadata": {
    "collapsed": false
   },
   "outputs": [
    {
     "data": {
      "text/plain": [
       "<matplotlib.collections.PathCollection at 0x328d1d110>"
      ]
     },
     "execution_count": 6,
     "metadata": {},
     "output_type": "execute_result"
    },
    {
     "data": {
      "image/png": "[encoded data removed]",
      "text/plain": [
       "<matplotlib.figure.Figure at 0x3d73cca50>"
      ]
     },
     "metadata": {},
     "output_type": "display_data"
    }
   ],
   "source": [
    "fig, ax = plt.subplots(1,1)\n",
    "ax.scatter(obshist1.ra, obshist1.dec)"
   ]
  },
  {
   "cell_type": "code",
   "execution_count": 7,
   "metadata": {
    "collapsed": false
   },
   "outputs": [
    {
     "data": {
      "text/html": [
       "<div>\n",
       "<table border=\"1\" class=\"dataframe\">\n",
       "  <thead>\n",
       "    <tr style=\"text-align: right;\">\n",
       "      <th></th>\n",
       "      <th>diaid</th>\n",
       "      <th>obshistid</th>\n",
       "      <th>ssmid</th>\n",
       "      <th>ra</th>\n",
       "      <th>dec</th>\n",
       "      <th>mjd</th>\n",
       "      <th>mag</th>\n",
       "      <th>snr</th>\n",
       "    </tr>\n",
       "  </thead>\n",
       "  <tbody>\n",
       "    <tr>\n",
       "      <th>0</th>\n",
       "      <td>340</td>\n",
       "      <td>88648009</td>\n",
       "      <td>279772</td>\n",
       "      <td>221.961212</td>\n",
       "      <td>-22.434322</td>\n",
       "      <td>51028.962275</td>\n",
       "      <td>16.947859</td>\n",
       "      <td>282.167067</td>\n",
       "    </tr>\n",
       "    <tr>\n",
       "      <th>1</th>\n",
       "      <td>341</td>\n",
       "      <td>88648009</td>\n",
       "      <td>289222</td>\n",
       "      <td>222.476704</td>\n",
       "      <td>-21.148592</td>\n",
       "      <td>51028.962275</td>\n",
       "      <td>21.037617</td>\n",
       "      <td>6.525338</td>\n",
       "    </tr>\n",
       "    <tr>\n",
       "      <th>2</th>\n",
       "      <td>342</td>\n",
       "      <td>88648009</td>\n",
       "      <td>350789</td>\n",
       "      <td>222.454675</td>\n",
       "      <td>-23.875420</td>\n",
       "      <td>51028.962275</td>\n",
       "      <td>19.231781</td>\n",
       "      <td>34.430043</td>\n",
       "    </tr>\n",
       "    <tr>\n",
       "      <th>3</th>\n",
       "      <td>343</td>\n",
       "      <td>88648009</td>\n",
       "      <td>361765</td>\n",
       "      <td>221.088133</td>\n",
       "      <td>-24.207378</td>\n",
       "      <td>51028.962275</td>\n",
       "      <td>20.916420</td>\n",
       "      <td>7.295953</td>\n",
       "    </tr>\n",
       "    <tr>\n",
       "      <th>4</th>\n",
       "      <td>344</td>\n",
       "      <td>88648009</td>\n",
       "      <td>363479</td>\n",
       "      <td>220.129034</td>\n",
       "      <td>-23.150910</td>\n",
       "      <td>51028.962275</td>\n",
       "      <td>21.323051</td>\n",
       "      <td>5.016831</td>\n",
       "    </tr>\n",
       "  </tbody>\n",
       "</table>\n",
       "</div>"
      ],
      "text/plain": [
       "   diaid  obshistid   ssmid          ra        dec           mjd        mag  \\\n",
       "0    340   88648009  279772  221.961212 -22.434322  51028.962275  16.947859   \n",
       "1    341   88648009  289222  222.476704 -21.148592  51028.962275  21.037617   \n",
       "2    342   88648009  350789  222.454675 -23.875420  51028.962275  19.231781   \n",
       "3    343   88648009  361765  221.088133 -24.207378  51028.962275  20.916420   \n",
       "4    344   88648009  363479  220.129034 -23.150910  51028.962275  21.323051   \n",
       "\n",
       "          snr  \n",
       "0  282.167067  \n",
       "1    6.525338  \n",
       "2   34.430043  \n",
       "3    7.295953  \n",
       "4    5.016831  "
      ]
     },
     "execution_count": 7,
     "metadata": {},
     "output_type": "execute_result"
    }
   ],
   "source": [
    "obshist2 = pd.read_sql_query(\"\"\"\n",
    "SELECT * FROM noAstromErr\n",
    "WHERE obshistid = 88648009;\n",
    "\"\"\", con)\n",
    "obshist2.head()"
   ]
  },
  {
   "cell_type": "code",
   "execution_count": 8,
   "metadata": {
    "collapsed": false
   },
   "outputs": [
    {
     "data": {
      "text/plain": [
       "<matplotlib.collections.PathCollection at 0x1092ddad0>"
      ]
     },
     "execution_count": 8,
     "metadata": {},
     "output_type": "execute_result"
    },
    {
     "data": {
      "image/png": "[encoded data removed]",
      "text/plain": [
       "<matplotlib.figure.Figure at 0x109266390>"
      ]
     },
     "metadata": {},
     "output_type": "display_data"
    }
   ],
   "source": [
    "fig, ax = plt.subplots(1,1)\n",
    "ax.scatter(obshist2.ra, obshist2.dec)"
   ]
  },
  {
   "cell_type": "code",
   "execution_count": 9,
   "metadata": {
    "collapsed": false
   },
   "outputs": [
    {
     "data": {
      "text/html": [
       "<div>\n",
       "<table border=\"1\" class=\"dataframe\">\n",
       "  <thead>\n",
       "    <tr style=\"text-align: right;\">\n",
       "      <th></th>\n",
       "      <th>diaid</th>\n",
       "      <th>obshistid</th>\n",
       "      <th>ssmid</th>\n",
       "      <th>ra</th>\n",
       "      <th>dec</th>\n",
       "      <th>mjd</th>\n",
       "      <th>mag</th>\n",
       "      <th>snr</th>\n",
       "    </tr>\n",
       "  </thead>\n",
       "  <tbody>\n",
       "    <tr>\n",
       "      <th>0</th>\n",
       "      <td>640</td>\n",
       "      <td>88648010</td>\n",
       "      <td>1436</td>\n",
       "      <td>220.468991</td>\n",
       "      <td>-19.509206</td>\n",
       "      <td>51028.962725</td>\n",
       "      <td>21.211318</td>\n",
       "      <td>5.526917</td>\n",
       "    </tr>\n",
       "    <tr>\n",
       "      <th>1</th>\n",
       "      <td>641</td>\n",
       "      <td>88648010</td>\n",
       "      <td>289222</td>\n",
       "      <td>222.476838</td>\n",
       "      <td>-21.148657</td>\n",
       "      <td>51028.962725</td>\n",
       "      <td>21.037624</td>\n",
       "      <td>6.485751</td>\n",
       "    </tr>\n",
       "    <tr>\n",
       "      <th>2</th>\n",
       "      <td>642</td>\n",
       "      <td>88648010</td>\n",
       "      <td>316967</td>\n",
       "      <td>220.476108</td>\n",
       "      <td>-19.290882</td>\n",
       "      <td>51028.962725</td>\n",
       "      <td>20.090515</td>\n",
       "      <td>15.516870</td>\n",
       "    </tr>\n",
       "    <tr>\n",
       "      <th>3</th>\n",
       "      <td>643</td>\n",
       "      <td>88648010</td>\n",
       "      <td>331002</td>\n",
       "      <td>219.637598</td>\n",
       "      <td>-19.962182</td>\n",
       "      <td>51028.962725</td>\n",
       "      <td>21.263701</td>\n",
       "      <td>5.266591</td>\n",
       "    </tr>\n",
       "    <tr>\n",
       "      <th>4</th>\n",
       "      <td>644</td>\n",
       "      <td>88648010</td>\n",
       "      <td>342393</td>\n",
       "      <td>222.011132</td>\n",
       "      <td>-19.945734</td>\n",
       "      <td>51028.962725</td>\n",
       "      <td>20.958027</td>\n",
       "      <td>6.979095</td>\n",
       "    </tr>\n",
       "  </tbody>\n",
       "</table>\n",
       "</div>"
      ],
      "text/plain": [
       "   diaid  obshistid   ssmid          ra        dec           mjd        mag  \\\n",
       "0    640   88648010    1436  220.468991 -19.509206  51028.962725  21.211318   \n",
       "1    641   88648010  289222  222.476838 -21.148657  51028.962725  21.037624   \n",
       "2    642   88648010  316967  220.476108 -19.290882  51028.962725  20.090515   \n",
       "3    643   88648010  331002  219.637598 -19.962182  51028.962725  21.263701   \n",
       "4    644   88648010  342393  222.011132 -19.945734  51028.962725  20.958027   \n",
       "\n",
       "         snr  \n",
       "0   5.526917  \n",
       "1   6.485751  \n",
       "2  15.516870  \n",
       "3   5.266591  \n",
       "4   6.979095  "
      ]
     },
     "execution_count": 9,
     "metadata": {},
     "output_type": "execute_result"
    }
   ],
   "source": [
    "obshist3 = pd.read_sql_query(\"\"\"\n",
    "SELECT * FROM noAstromErr\n",
    "WHERE obshistid = 88648010;\n",
    "\"\"\", con)\n",
    "obshist3.head()"
   ]
  },
  {
   "cell_type": "code",
   "execution_count": 10,
   "metadata": {
    "collapsed": false
   },
   "outputs": [
    {
     "data": {
      "text/plain": [
       "<matplotlib.collections.PathCollection at 0x1094a1990>"
      ]
     },
     "execution_count": 10,
     "metadata": {},
     "output_type": "execute_result"
    },
    {
     "data": {
      "image/png": "[encoded data removed]",
      "text/plain": [
       "<matplotlib.figure.Figure at 0x109280fd0>"
      ]
     },
     "metadata": {},
     "output_type": "display_data"
    }
   ],
   "source": [
    "fig, ax = plt.subplots(1,1)\n",
    "ax.scatter(obshist3.ra, obshist3.dec)"
   ]
  },
  {
   "cell_type": "code",
   "execution_count": 11,
   "metadata": {
    "collapsed": false
   },
   "outputs": [
    {
     "data": {
      "text/plain": [
       "<matplotlib.text.Text at 0x109717850>"
      ]
     },
     "execution_count": 11,
     "metadata": {},
     "output_type": "execute_result"
    },
    {
     "data": {
      "image/png": "[encoded data removed]",
      "text/plain": [
       "<matplotlib.figure.Figure at 0x109441250>"
      ]
     },
     "metadata": {},
     "output_type": "display_data"
    }
   ],
   "source": [
    "fig, ax = plt.subplots(1,1)\n",
    "color = ['#004C70','#006495','#0093D1']\n",
    "for i,n in enumerate([obshist1,obshist2,obshist3]):\n",
    "    ax.scatter(n.ra, n.dec,color=color[i])\n",
    "    \n",
    "ax.set_xlabel('RA')\n",
    "ax.set_ylabel('DEC')\n",
    "ax.set_title('3 Visits')"
   ]
  },
  {
   "cell_type": "code",
   "execution_count": 12,
   "metadata": {
    "collapsed": false
   },
   "outputs": [
    {
     "data": {
      "text/plain": [
       "<matplotlib.text.Text at 0x3d7507d10>"
      ]
     },
     "execution_count": 12,
     "metadata": {},
     "output_type": "execute_result"
    },
    {
     "data": {
      "image/png": "[encoded data removed]",
      "text/plain": [
       "<matplotlib.figure.Figure at 0x10979be50>"
      ]
     },
     "metadata": {},
     "output_type": "display_data"
    }
   ],
   "source": [
    "fig, ax = plt.subplots(1,1)\n",
    "color = ['c', 'g', 'm', 'm']\n",
    "for i,n in enumerate([obshist1,obshist2,obshist3]):\n",
    "    ax.scatter(n.ra, n.dec,color=color[i])\n",
    "    \n",
    "ax.set_xlabel('RA')\n",
    "ax.set_ylabel('DEC')\n",
    "ax.set_title('3 Visits')"
   ]
  },
  {
   "cell_type": "markdown",
   "metadata": {},
   "source": [
    "### Data Plotting"
   ]
  },
  {
   "cell_type": "code",
   "execution_count": 13,
   "metadata": {
    "collapsed": true
   },
   "outputs": [],
   "source": [
    "def _plotPrettyMaker(ax, title, xlabel='RA', ylabel='DEC'):\n",
    "    \n",
    "    ax.set_xlabel(xlabel, size=14)\n",
    "    ax.set_ylabel(ylabel, size=14)\n",
    "    ax.set_title(title)\n",
    "    \n",
    "    return"
   ]
  },
  {
   "cell_type": "code",
   "execution_count": 14,
   "metadata": {
    "collapsed": true
   },
   "outputs": [],
   "source": [
    "def objectPlot(ssmid):\n",
    "    \n",
    "    obj = pd.read_sql_query(\"\"\"\n",
    "    SELECT * FROM noAstromErr\n",
    "    WHERE ssmid = %s;\n",
    "    \"\"\" % (ssmid), con)\n",
    "    \n",
    "    fig, ax = plt.subplots(1,1)\n",
    "    ax.scatter(obj.ra,obj.dec,c=np.arange(len(obj.ra)),cmap='Blues')\n",
    "    \n",
    "    _plotPrettyMaker(ax, 'SSMID %s' % (ssmid))\n",
    "    \n",
    "    return\n",
    "    "
   ]
  },
  {
   "cell_type": "code",
   "execution_count": 15,
   "metadata": {
    "collapsed": false
   },
   "outputs": [],
   "source": [
    "def visitPlot(obshistid):\n",
    "    \n",
    "    fig, ax = plt.subplots(1,1)\n",
    "    for obs in obshistid:\n",
    "        obs = pd.read_sql_query(\"\"\"\n",
    "        SELECT * FROM noAstromErr\n",
    "        WHERE obshistid = %s;\n",
    "        \"\"\" % (obs), con)\n",
    "        ax.scatter(obs.ra,obs.dec)\n",
    "\n",
    "    #if len(obhistid) > 1:\n",
    "     #   _plotPrettyMaker(ax, '%s OBSHISTIDs' % (len(obshistid))\n",
    "    #else:\n",
    "     #   _plotPrettyMaker(ax, 'OBSHISTID %s' % (obshistid))\n",
    "                         \n",
    "    return\n",
    "    "
   ]
  },
  {
   "cell_type": "code",
   "execution_count": 16,
   "metadata": {
    "collapsed": true
   },
   "outputs": [],
   "source": [
    "def mjdPlot(mjd):\n",
    "    fig, ax = plt.subplots(1,1)\n",
    "    for d in mjd:\n",
    "        mjd = pd.read_sql_query(\"\"\"\n",
    "        SELECT * FROM noAstromErr\n",
    "        WHERE mjd = %s;\n",
    "        \"\"\" % (mjd), con)\n",
    "        ax.scatter(mjd.ra,mjd.dec)\n",
    "    \n",
    "    \n",
    "    _plotPrettyMaker(ax, 'MJD %s' % (mjd))\n",
    "    return"
   ]
  },
  {
   "cell_type": "code",
   "execution_count": 17,
   "metadata": {
    "collapsed": false
   },
   "outputs": [
    {
     "data": {
      "image/png": "[encoded data removed]",
      "text/plain": [
       "<matplotlib.figure.Figure at 0x10923b050>"
      ]
     },
     "metadata": {},
     "output_type": "display_data"
    }
   ],
   "source": [
    "objectPlot('289222')"
   ]
  },
  {
   "cell_type": "code",
   "execution_count": 20,
   "metadata": {
    "collapsed": false
   },
   "outputs": [
    {
     "data": {
      "image/png": "[encoded data removed]",
      "text/plain": [
       "<matplotlib.figure.Figure at 0x1095bdc90>"
      ]
     },
     "metadata": {},
     "output_type": "display_data"
    }
   ],
   "source": [
    "visitPlot(['88648008','88648009','88648010','88648011','88648012','88648013'])"
   ]
  },
  {
   "cell_type": "code",
   "execution_count": null,
   "metadata": {
    "collapsed": true
   },
   "outputs": [],
   "source": []
  }
 ],
 "metadata": {
  "kernelspec": {
   "display_name": "Python 2",
   "language": "python",
   "name": "python2"
  },
  "language_info": {
   "codemirror_mode": {
    "name": "ipython",
    "version": 2
   },
   "file_extension": ".py",
   "mimetype": "text/x-python",
   "name": "python",
   "nbconvert_exporter": "python",
   "pygments_lexer": "ipython2",
   "version": "2.7.10"
  }
 },
 "nbformat": 4,
 "nbformat_minor": 0
}
